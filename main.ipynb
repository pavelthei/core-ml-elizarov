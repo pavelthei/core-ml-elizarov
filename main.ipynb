{
 "cells": [
  {
   "cell_type": "markdown",
   "id": "82a4b946-f415-490a-b2a7-adda15c789df",
   "metadata": {},
   "source": [
    "### Set-up:\n",
    "\n",
    "* Для выполнения данного задания я использовал **Docker**. Для сборки образа можно воспользоваться следующей командой: `docker build -t core-ml .`\n",
    "* Также, я использую GPU в контейнере. Для этого необходимо установить дополнительное расширения для Docker. \n",
    "* Для запуска контейнера я воспользовался следующей командой: `docker run -it -p 8888:8888 -v $(pwd):/app --gpus all core-ml`.\n",
    "\n",
    "Выполнил [Елизаров Павел](https://vk.com/epepepepepepepepepepepepepepepep)."
   ]
  },
  {
   "cell_type": "markdown",
   "id": "b7107024-78ec-47b4-aadd-ab3c25d84d1a",
   "metadata": {},
   "source": [
    "---"
   ]
  },
  {
   "cell_type": "markdown",
   "id": "5a7130dd-4fe9-4b37-866a-2e718a6c6b91",
   "metadata": {},
   "source": [
    "### Импорт необходимых библиотек"
   ]
  },
  {
   "cell_type": "code",
   "execution_count": 5,
   "id": "91c584ae-fa74-44f8-9e30-921955222cf6",
   "metadata": {},
   "outputs": [],
   "source": [
    "import pandas as pd\n",
    "import numpy as np\n",
    "import os\n",
    "import matplotlib.pyplot as plt\n",
    "import scipy.sparse as sp\n",
    "import torch\n",
    "import scipy\n",
    "import optuna\n",
    "from tqdm import tqdm"
   ]
  },
  {
   "cell_type": "markdown",
   "id": "b159f428-b4a4-47bf-a0f3-5d3e38e87b90",
   "metadata": {},
   "source": [
    "### Предобработка для работы над моделями коллаборативной фильрации:\n",
    "Здесь сначала преобразуется часть исключительно для коллаборативной части"
   ]
  },
  {
   "cell_type": "code",
   "execution_count": 2,
   "id": "d67a03a4-e568-48c6-8280-62c6492f4105",
   "metadata": {},
   "outputs": [],
   "source": [
    "# Начнем с самого вкусного - с рейтингов\n",
    "ratings = pd.read_csv('./data/rating.csv')\n",
    "# Трансформируем в timestamp для более удобной работы\n",
    "ratings['timestamp'] = pd.to_datetime(ratings['timestamp']).astype('int64') // 10**9"
   ]
  },
  {
   "cell_type": "markdown",
   "id": "4d50f966-535e-4221-aa7f-13244bc97a3c",
   "metadata": {},
   "source": [
    "Следует проверить, какие фильмы просмотрели редко, а какие часто. Это позволит оставить только те фильмы, которые не будут зашумлять работу коллаборативной фильтрации. \n",
    "Для того, чтобы убрать редко-просматриваемые фильмы, воспользуемся правилом \"логтя\"."
   ]
  },
  {
   "cell_type": "code",
   "execution_count": 3,
   "id": "5a24811b-1af3-4039-a86b-f694b424a1f4",
   "metadata": {},
   "outputs": [
    {
     "data": {
      "image/png": "[encoded data removed]",
      "text/plain": [
       "<Figure size 648x504 with 1 Axes>"
      ]
     },
     "metadata": {
      "needs_background": "light"
     },
     "output_type": "display_data"
    }
   ],
   "source": [
    "counts = ratings.groupby('movieId')['userId'].count()\n",
    "\n",
    "plt.figure(figsize=(9, 7))\n",
    "plt.hist(counts[counts < 100], bins=50)\n",
    "# Число 11 - ложится на логоть\n",
    "plt.axvline(11, color='red', linestyle='--')\n",
    "plt.show()"
   ]
  },
  {
   "cell_type": "markdown",
   "id": "431de659-9b78-4bbc-b6fb-9c1de9bf1f50",
   "metadata": {},
   "source": [
    "Уберем те фильмы, которые встречаются очень редко, а именно, которые встречаются меньше 11 раз"
   ]
  },
  {
   "cell_type": "code",
   "execution_count": 4,
   "id": "420d6bfd-91a5-408a-a416-4e538e162e2f",
   "metadata": {},
   "outputs": [],
   "source": [
    "ratings = ratings[ratings['movieId'].isin(counts[counts >= 11].index)]"
   ]
  },
  {
   "cell_type": "markdown",
   "id": "ba65f8ee-8384-4dfd-a6be-b9f2e0b89d3f",
   "metadata": {},
   "source": [
    "### Разделение на тренировочную, валидационную и тестовую выборки:\n",
    "\n",
    "* Для разделения на выборки стоит использовать критерий по времени. То есть, в тестовой и валидационной выборках должны присутствовать взаимодействия, которые произошли после взаимодействий из тренировочной выборки. Выберем 70% данных на тренировочную выборку, 10% на валидационную выборку и 20% на тест. \n",
    "* Тренировочная выбора создается для обучения моделей, валидационная - для настройки гиперпараметров, тестовая - для анализа качества модели.\n",
    "* Все выборки преобразуем к sparse csr матрицам с фиксированным размером всего датасета."
   ]
  },
  {
   "cell_type": "code",
   "execution_count": 6,
   "id": "01ebb157-375b-4dce-81ac-55d7fe71f184",
   "metadata": {},
   "outputs": [],
   "source": [
    "# Переделаем индексы, чтобы было проще работать со sparse-матрицами: создадим энкодеры и декодеры в последовательные id\n",
    "movie_encoder = {k: v for v, k in enumerate(np.unique(ratings['movieId']))}\n",
    "user_encoder = {k: v for v, k in enumerate(np.unique(ratings['userId']))}\n",
    "movie_decoder = {k: v for k, v in enumerate(np.unique(ratings['movieId']))}\n",
    "user_decoder = {k: v for k, v in enumerate(np.unique(ratings['userId']))}\n",
    "\n",
    "# Переделаем Id\n",
    "ratings['movieId'] = ratings['movieId'].apply(lambda x: movie_encoder[x])\n",
    "ratings['userId'] = ratings['userId'].apply(lambda x: user_encoder[x])\n",
    "\n",
    "\n",
    "\n",
    "# Выбор трешхолдов для разделения на тренировочную, валидационную и тесовую выборки:\n",
    "val_threshold, test_threshold = np.percentile(ratings['timestamp'], 70), np.percentile(ratings['timestamp'], 80)\n",
    "\n",
    "# Разделяем датасеты:\n",
    "train, train_val, validation, test = ratings[ratings['timestamp'] < val_threshold],\\\n",
    "                                                 ratings[ratings['timestamp'] < test_threshold],\\\n",
    "                                                 ratings[(ratings['timestamp'] >= val_threshold) & (ratings['timestamp'] < test_threshold)],\\\n",
    "                                                 ratings[ratings['timestamp'] >= test_threshold]\n",
    "\n",
    "# Также сохраним количество уникальных пользователей и количество уникальных фильмов для созранения sparse матриц.\n",
    "matrix_shape = (len(np.unique(ratings['userId'])), len(np.unique(ratings['movieId'])))\n",
    "\n",
    "# Преобразование в sparse-матрицы\n",
    "train, train_val, validation, test = sp.csr_matrix((train['rating'], (train['userId'], train['movieId'])), shape=matrix_shape),\\\n",
    "                                     sp.csr_matrix((train_val['rating'], (train_val['userId'], train_val['movieId'])), shape=matrix_shape),\\\n",
    "                                     sp.csr_matrix((validation['rating'], (validation['userId'], validation['movieId'])), shape=matrix_shape),\\\n",
    "                                     sp.csr_matrix((test['rating'], (test['userId'], test['movieId'])), shape=matrix_shape)"
   ]
  },
  {
   "cell_type": "markdown",
   "id": "913177ea-04c1-4623-9d20-403cc94e2612",
   "metadata": {},
   "source": [
    "---"
   ]
  },
  {
   "cell_type": "markdown",
   "id": "6db6aaf9-8815-4a19-bfa2-dbc0caec55e5",
   "metadata": {},
   "source": [
    "### Пробуем применить только коллаборативный подход: *MostPopular-модель*, *SVD-like*, *ALS*, и *AutoEncoder*.\n",
    "\n"
   ]
  },
  {
   "cell_type": "markdown",
   "id": "074f43ea-4c53-4eee-b109-3c99d8101efb",
   "metadata": {},
   "source": [
    "---\n",
    "\n",
    "#### _Немного о метрике качества:_\n",
    "\n",
    "Для измерения качества, я выбрал метрику ранжирования **nDCG@k**. Это метрика ранжирования, где степень релевантности задается не бинарной величиной. Так как в нашем случае релевантность задается оценкой, степень релевантности - не бинарная. \n",
    "\n",
    "---\n",
    "\n",
    "Также можно использовать **MAP@k**, однако, тогда оценки придется переводить в бинарные. (Например, 1 - если оценка выше или рана 4, 0 - иначе).\n",
    "\n",
    "#### _Немного о статистической проверке:_\n",
    "После предсказаний для каждого пользователя, мы можем расчитать для них метрику nDCG@k. Для каждой модели будем проверять, различаются ли метрики, составленные из рекомендаций моделей, от метрик, составленных из рандомных рекомендаций с помошью t-теста. k выберем равным 20.\n",
    "\n",
    "---\n",
    "\n",
    "#### _Немного о настройке гиперпараметров:_\n",
    "Для некоторых моделей я буду настраивать гиперпараметры с помощью Байесовского алгоритма, реализованного в библиотеке *optuna*. Также для настройки гиперпарамтров можно использовать поиск по сетке или случайный поиск. Во время настройки гиперпараметров будем ориентироваться на качество валидационной выборки.\n",
    "\n",
    "---"
   ]
  },
  {
   "cell_type": "code",
   "execution_count": 9,
   "id": "c9c4358b-ebd4-4464-9b47-2eb69b0f9d4f",
   "metadata": {},
   "outputs": [],
   "source": [
    "# Импортируем модели\n",
    "from src.models import MostPopular, SVDRecommender\n",
    "from src.torch_models import TorchALS, AutoEncoderRecommender\n",
    "\n",
    "# Импортируем ALS из библиотеки implicit \n",
    "from implicit.als import AlternatingLeastSquares\n",
    "\n",
    "# Импортируем метрику\n",
    "from src.utils import ndcg_at_k\n",
    "\n",
    "device = 'cuda' if torch.cuda.is_available() else 'cpu'"
   ]
  },
  {
   "cell_type": "markdown",
   "id": "8064140e-5f36-4e00-b4fd-ec3c76299a71",
   "metadata": {},
   "source": [
    "Для того, чтобы сэкономить память, проверять качество модели будем для самых активных пользователей, а именно для тех, кто всего посмотрел больше 20 фильмов, а за время тестового периода - больше 5.\n",
    "То же самое сделаем для валидации."
   ]
  },
  {
   "cell_type": "code",
   "execution_count": 10,
   "id": "2a253ae7-c804-4033-8ea8-66e8135596eb",
   "metadata": {},
   "outputs": [],
   "source": [
    "test_active, train_for_test, train_val_for_test= test[(train.getnnz(1) > 10) & (test.getnnz(1) > 5)], train[(train.getnnz(1) > 10) & (test.getnnz(1) > 5)],\\\n",
    "                                                 train_val[(train.getnnz(1) > 10) & (test.getnnz(1) > 5)]\n",
    "val_active, train_for_val = validation[(train.getnnz(1) > 10) & (validation.getnnz(1) > 5)], train[(train.getnnz(1) > 10) & (validation.getnnz(1) > 5)]"
   ]
  },
  {
   "cell_type": "markdown",
   "id": "ed4fbe59-76dd-4e6d-9bf1-3a35e339e50e",
   "metadata": {},
   "source": [
    "### Most Popular: \n",
    "Основана на том, что берет либо самые популярные фильмы, либо лучшие по рейтингу"
   ]
  },
  {
   "cell_type": "code",
   "execution_count": 11,
   "id": "4b304db6-8426-43ae-90a7-640e5a09722d",
   "metadata": {},
   "outputs": [
    {
     "name": "stderr",
     "output_type": "stream",
     "text": [
      "  3%|▎         | 1/30 [00:00<00:03,  8.77it/s]"
     ]
    },
    {
     "name": "stdout",
     "output_type": "stream",
     "text": [
      "Predicting stage\n"
     ]
    },
    {
     "name": "stderr",
     "output_type": "stream",
     "text": [
      "100%|██████████| 30/30 [00:03<00:00,  8.87it/s]\n",
      " 20%|██        | 6/30 [00:00<00:00, 51.20it/s]"
     ]
    },
    {
     "name": "stdout",
     "output_type": "stream",
     "text": [
      "NDCG calculating stage\n"
     ]
    },
    {
     "name": "stderr",
     "output_type": "stream",
     "text": [
      "100%|██████████| 30/30 [00:00<00:00, 52.77it/s]\n",
      "100%|██████████| 30/30 [00:00<00:00, 53.95it/s]\n",
      "100%|██████████| 30/30 [00:00<00:00, 53.22it/s]\n",
      "100%|██████████| 30/30 [00:00<00:00, 52.72it/s]\n"
     ]
    }
   ],
   "source": [
    "# Тренируем и смотрим на перформанс MostPopular\n",
    "most_pop = MostPopular(popularity_type='by_rating')\n",
    "most_pop.fit(train_val)\n",
    "print(\"Predicting stage\")\n",
    "predictions = most_pop.predict(train_for_test, test_active, excluding_predictions=train_val_for_test, batch_size=100, drop_cold_users=True)\n",
    "\n",
    "print(\"NDCG calculating stage\")\n",
    "# Считаем метрику\n",
    "most_pop_ndcg = [ndcg_at_k(predictions, test_active, k=i).mean() for i in (10, 20, 50, 100)]"
   ]
  },
  {
   "cell_type": "code",
   "execution_count": 23,
   "id": "5eb372f0-2621-4ff1-bfc6-705bdf240ad8",
   "metadata": {},
   "outputs": [
    {
     "name": "stderr",
     "output_type": "stream",
     "text": [
      "100%|██████████| 30/30 [00:03<00:00,  9.07it/s]\n",
      "100%|██████████| 30/30 [00:00<00:00, 53.95it/s]\n",
      "100%|██████████| 30/30 [00:00<00:00, 53.87it/s]"
     ]
    },
    {
     "name": "stdout",
     "output_type": "stream",
     "text": [
      "\n",
      "P-value: 2.7334673513478037e-307\n",
      "\n"
     ]
    },
    {
     "name": "stderr",
     "output_type": "stream",
     "text": [
      "\n"
     ]
    }
   ],
   "source": [
    "# тестируем\n",
    "random_predictions = np.random.randint(0, train.shape[1], (test_active.shape[0], 20))\n",
    "model_prediction = most_pop.predict(train_for_test, test_active, excluding_predictions=train_val_for_test, batch_size=100, drop_cold_users=True, number_of_predictions=20)\n",
    "\n",
    "random_ndcg = ndcg_at_k(random_predictions, test_active, k=20)\n",
    "model_ndcg = ndcg_at_k(model_prediction, test_active, k=20)\n",
    "\n",
    "print(\n",
    "f\"\"\"\n",
    "P-value: {scipy.stats.ttest_ind(random_ndcg, model_ndcg)[1]}\n",
    "\"\"\"\n",
    ")\n"
   ]
  },
  {
   "cell_type": "markdown",
   "id": "2aa91807-741b-45f8-9149-df69d72fa9fd",
   "metadata": {},
   "source": [
    "Средние значения метрик, полученные с помощью рандомных предсказаний и с помощью предсказаний модели, статистически значимо различаются."
   ]
  },
  {
   "cell_type": "markdown",
   "id": "11d1c5b4-a003-4834-8021-a31d71d04dc7",
   "metadata": {},
   "source": [
    "### SVD:\n",
    "Основана на SVD-разложении"
   ]
  },
  {
   "cell_type": "code",
   "execution_count": 29,
   "id": "18cd3d1a-5735-45bb-a8a7-7e37cb554bb2",
   "metadata": {},
   "outputs": [
    {
     "name": "stderr",
     "output_type": "stream",
     "text": [
      "\u001b[32m[I 2021-06-15 18:52:02,048]\u001b[0m A new study created in memory with name: no-name-53d9ad37-23d6-4aa6-86c2-975461a1c51d\u001b[0m\n",
      "100%|██████████| 40/40 [00:00<00:00, 53.82it/s]\n",
      "\u001b[32m[I 2021-06-15 18:52:35,106]\u001b[0m Trial 0 finished with value: 0.14369960370709534 and parameters: {'n_components': 60, 'n_iter': 20}. Best is trial 0 with value: 0.14369960370709534.\u001b[0m\n",
      "100%|██████████| 40/40 [00:00<00:00, 54.13it/s]\n",
      "\u001b[32m[I 2021-06-15 18:53:13,444]\u001b[0m Trial 1 finished with value: 0.13727802593366245 and parameters: {'n_components': 100, 'n_iter': 15}. Best is trial 0 with value: 0.14369960370709534.\u001b[0m\n",
      "100%|██████████| 40/40 [00:00<00:00, 54.06it/s]\n",
      "\u001b[32m[I 2021-06-15 18:53:32,669]\u001b[0m Trial 2 finished with value: 0.1440434914519713 and parameters: {'n_components': 60, 'n_iter': 10}. Best is trial 2 with value: 0.1440434914519713.\u001b[0m\n"
     ]
    },
    {
     "name": "stdout",
     "output_type": "stream",
     "text": [
      "Predicting stage\n"
     ]
    },
    {
     "name": "stderr",
     "output_type": "stream",
     "text": [
      " 20%|██        | 6/30 [00:00<00:00, 53.46it/s]"
     ]
    },
    {
     "name": "stdout",
     "output_type": "stream",
     "text": [
      "NDCG calculating stage\n"
     ]
    },
    {
     "name": "stderr",
     "output_type": "stream",
     "text": [
      "100%|██████████| 30/30 [00:00<00:00, 53.97it/s]\n",
      "100%|██████████| 30/30 [00:00<00:00, 53.30it/s]\n",
      "100%|██████████| 30/30 [00:00<00:00, 52.62it/s]\n",
      "100%|██████████| 30/30 [00:00<00:00, 51.34it/s]\n"
     ]
    }
   ],
   "source": [
    "# Применим оптимизацию гиперпараметров\n",
    "val_user_ids = np.arange(validation.shape[0])[(train.getnnz(1) > 10) & (validation.getnnz(1) > 5)]\n",
    "def objective(trial):\n",
    "    n_components = trial.suggest_int(\"n_components\", 60, 100, 20)\n",
    "    n_iter = trial.suggest_int(\"n_iter\", 10, 20, 5)\n",
    "    svd_rec = SVDRecommender(n_components=n_components, n_iter=n_iter)\n",
    "    svd_rec.fit(train)\n",
    "    predictions = svd_rec.predict(train, val_active, excluding_predictions=train, batch_size=100, drop_cold_users=True,\n",
    "                             user_ids=val_user_ids)\n",
    "    \n",
    "    return ndcg_at_k(predictions, val_active, k=20).mean()\n",
    "\n",
    "study = optuna.create_study(direction='maximize')\n",
    "study.optimize(objective, n_trials=3)\n",
    "\n",
    "best_params = study.best_params\n",
    "\n",
    "svd_rec = SVDRecommender(**best_params)\n",
    "svd_rec.fit(train_val)\n",
    "user_ids = np.arange(test.shape[0])[(train.getnnz(1) > 10) & (test.getnnz(1) > 5)]\n",
    "\n",
    "print(\"Predicting stage\")\n",
    "predictions = svd_rec.predict(train_val_for_test, test_active, excluding_predictions=train_val, batch_size=100, drop_cold_users=True,\n",
    "                             user_ids=user_ids)\n",
    "\n",
    "print(\"NDCG calculating stage\")\n",
    "# Считаем метрику\n",
    "svd_ndcg = [ndcg_at_k(predictions, test_active, k=i).mean() for i in (10, 20, 50, 100)]"
   ]
  },
  {
   "cell_type": "code",
   "execution_count": 31,
   "id": "28ebd032-a9e4-4be0-96b2-bf8e1e4e8755",
   "metadata": {},
   "outputs": [
    {
     "name": "stderr",
     "output_type": "stream",
     "text": [
      "100%|██████████| 30/30 [00:00<00:00, 49.25it/s]\n",
      "100%|██████████| 30/30 [00:00<00:00, 52.72it/s]"
     ]
    },
    {
     "name": "stdout",
     "output_type": "stream",
     "text": [
      "\n",
      "P-value: 4.985374417909302e-70\n",
      "\n"
     ]
    },
    {
     "name": "stderr",
     "output_type": "stream",
     "text": [
      "\n"
     ]
    }
   ],
   "source": [
    "# тестируем\n",
    "random_predictions = np.random.randint(0, train.shape[1], (test_active.shape[0], 20))\n",
    "model_prediction = svd_rec.predict(train_for_test, test_active, excluding_predictions=train_val, batch_size=100, drop_cold_users=True, number_of_predictions=20)\n",
    "\n",
    "random_ndcg = ndcg_at_k(random_predictions, test_active, k=20)\n",
    "model_ndcg = ndcg_at_k(model_prediction, test_active, k=20)\n",
    "\n",
    "print(\n",
    "f\"\"\"\n",
    "P-value: {scipy.stats.ttest_ind(random_ndcg, model_ndcg)[1]}\n",
    "\"\"\"\n",
    ")"
   ]
  },
  {
   "cell_type": "markdown",
   "id": "9eef8c75-c45c-4fc2-a948-2966fb093b51",
   "metadata": {},
   "source": [
    "Средние значения метрик, полученные с помощью рандомных предсказаний и с помощью предсказаний модели, статистически значимо различаются."
   ]
  },
  {
   "cell_type": "markdown",
   "id": "c15d1709-670f-4b53-b72b-6c4fd251fe70",
   "metadata": {},
   "source": [
    "### ALS from Implicit\n",
    "Готовая реализация ALS модели из библиотеки `implicit`."
   ]
  },
  {
   "cell_type": "code",
   "execution_count": 34,
   "id": "76e463b7-7f08-4246-aaa9-6efb6c092a72",
   "metadata": {},
   "outputs": [
    {
     "name": "stderr",
     "output_type": "stream",
     "text": [
      "\u001b[32m[I 2021-06-15 19:01:44,339]\u001b[0m A new study created in memory with name: no-name-7d6732e8-90b5-4744-93ad-df6e049e044d\u001b[0m\n",
      "100%|██████████| 40/40 [00:00<00:00, 51.52it/s]\n",
      "\u001b[32m[I 2021-06-15 19:06:16,355]\u001b[0m Trial 0 finished with value: 0.12725308503421712 and parameters: {'factors': 96, 'regularization': 0.028040860432144155}. Best is trial 0 with value: 0.12725308503421712.\u001b[0m\n",
      "100%|██████████| 40/40 [00:00<00:00, 53.88it/s]\n",
      "\u001b[32m[I 2021-06-15 19:10:51,161]\u001b[0m Trial 1 finished with value: 0.12784483950784314 and parameters: {'factors': 96, 'regularization': 0.07964901878594345}. Best is trial 1 with value: 0.12784483950784314.\u001b[0m\n",
      "100%|██████████| 40/40 [00:00<00:00, 53.01it/s]\n",
      "\u001b[32m[I 2021-06-15 19:15:34,883]\u001b[0m Trial 2 finished with value: 0.12271271133956951 and parameters: {'factors': 128, 'regularization': 0.015277866847984291}. Best is trial 1 with value: 0.12784483950784314.\u001b[0m\n"
     ]
    },
    {
     "name": "stdout",
     "output_type": "stream",
     "text": [
      "Predicting stage\n"
     ]
    },
    {
     "name": "stderr",
     "output_type": "stream",
     "text": [
      " 20%|██        | 6/30 [00:00<00:00, 52.07it/s]"
     ]
    },
    {
     "name": "stdout",
     "output_type": "stream",
     "text": [
      "NDCG calculating stage\n"
     ]
    },
    {
     "name": "stderr",
     "output_type": "stream",
     "text": [
      "100%|██████████| 30/30 [00:00<00:00, 53.21it/s]\n",
      "100%|██████████| 30/30 [00:00<00:00, 53.78it/s]\n",
      "100%|██████████| 30/30 [00:00<00:00, 52.96it/s]\n",
      "100%|██████████| 30/30 [00:00<00:00, 52.17it/s]\n"
     ]
    }
   ],
   "source": [
    "# Применим оптимизацию гиперпараметров\n",
    "val_user_ids = np.arange(validation.shape[0])[(train.getnnz(1) > 10) & (validation.getnnz(1) > 5)]\n",
    "def objective(trial):\n",
    "    factors = trial.suggest_int(\"factors\", 64, 128, 32)\n",
    "    regularization = trial.suggest_uniform(\"regularization\", 0.01, 0.1)\n",
    "    implicit_als = AlternatingLeastSquares(factors=factors, iterations=15, regularization=regularization)\n",
    "    implicit_als.fit(train.transpose(), show_progress=False)\n",
    "    predictions = [np.array(list(map(lambda x: x[0], implicit_als.recommend(i, train, N=20)))) for i in val_user_ids]\n",
    "    predictions = np.vstack(predictions)\n",
    "    \n",
    "    return ndcg_at_k(predictions, val_active, k=20).mean()\n",
    "\n",
    "study = optuna.create_study(direction='maximize')\n",
    "study.optimize(objective, n_trials=3)\n",
    "\n",
    "best_params = study.best_params\n",
    "\n",
    "implicit_als = AlternatingLeastSquares(**best_params)\n",
    "\n",
    "user_ids = np.arange(test.shape[0])[(train.getnnz(1) > 10) & (test.getnnz(1) > 5)]\n",
    "\n",
    "# Требует матрицу Items X Users, поэтому транспонируем\n",
    "implicit_als.fit(train_val.transpose(), show_progress=False)\n",
    "\n",
    "print(\"Predicting stage\")\n",
    "predictions = [np.array(list(map(lambda x: x[0], implicit_als.recommend(i, train_val, N=100)))) for i in user_ids]\n",
    "predictions = np.vstack(predictions)\n",
    "\n",
    "print(\"NDCG calculating stage\")\n",
    "als_ndcg = [ndcg_at_k(predictions, test_active, k=i).mean() for i in (10, 20, 50, 100)]"
   ]
  },
  {
   "cell_type": "code",
   "execution_count": 38,
   "id": "47e1093e-605f-4c30-ac60-0227cfa27da9",
   "metadata": {},
   "outputs": [
    {
     "name": "stderr",
     "output_type": "stream",
     "text": [
      "100%|██████████| 30/30 [00:00<00:00, 52.55it/s]\n",
      "100%|██████████| 30/30 [00:00<00:00, 52.71it/s]"
     ]
    },
    {
     "name": "stdout",
     "output_type": "stream",
     "text": [
      "\n",
      "P-value: 0.0\n",
      "\n"
     ]
    },
    {
     "name": "stderr",
     "output_type": "stream",
     "text": [
      "\n"
     ]
    }
   ],
   "source": [
    "# тестируем\n",
    "random_predictions = np.random.randint(0, train.shape[1], (test_active.shape[0], 20))\n",
    "model_prediction = [np.array(list(map(lambda x: x[0], implicit_als.recommend(i, train_val, N=100)))) for i in user_ids]\n",
    "model_prediction = np.vstack(model_prediction)\n",
    "\n",
    "random_ndcg = ndcg_at_k(random_predictions, test_active, k=20)\n",
    "model_ndcg = ndcg_at_k(model_prediction, test_active, k=20)\n",
    "\n",
    "print(\n",
    "f\"\"\"\n",
    "P-value: {scipy.stats.ttest_ind(random_ndcg, model_ndcg)[1]}\n",
    "\"\"\"\n",
    ")"
   ]
  },
  {
   "cell_type": "markdown",
   "id": "d12b9d40-aa98-42f2-a574-1aa1526cfd7a",
   "metadata": {},
   "source": [
    "Средние значения метрик, полученные с помощью рандомных предсказаний и с помощью предсказаний модели, статистически значимо различаются."
   ]
  },
  {
   "cell_type": "markdown",
   "id": "e93f9b5a-a614-4dd5-b342-3df7558f2817",
   "metadata": {},
   "source": [
    "### Torch ALS\n",
    "Попробовал реализовать собственную версию ALS на PyTorch. Гиперпараметры оставлю с прошлой модели"
   ]
  },
  {
   "cell_type": "code",
   "execution_count": 44,
   "id": "3e293606-eed1-4db7-b1a0-65aa97ff5180",
   "metadata": {},
   "outputs": [
    {
     "name": "stderr",
     "output_type": "stream",
     "text": [
      "100%|██████████| 15/15 [03:54<00:00, 15.61s/it]\n"
     ]
    },
    {
     "name": "stdout",
     "output_type": "stream",
     "text": [
      "Predicting stage\n"
     ]
    },
    {
     "name": "stderr",
     "output_type": "stream",
     "text": [
      " 20%|██        | 6/30 [00:00<00:00, 53.57it/s]"
     ]
    },
    {
     "name": "stdout",
     "output_type": "stream",
     "text": [
      "NDCG calculating stage\n"
     ]
    },
    {
     "name": "stderr",
     "output_type": "stream",
     "text": [
      "100%|██████████| 30/30 [00:00<00:00, 54.13it/s]\n",
      "100%|██████████| 30/30 [00:00<00:00, 53.43it/s]\n",
      "100%|██████████| 30/30 [00:00<00:00, 53.30it/s]\n",
      "100%|██████████| 30/30 [00:00<00:00, 52.48it/s]\n"
     ]
    }
   ],
   "source": [
    "torch_als = TorchALS(n_factors=best_params[\"factors\"], regularization=best_params[\"regularization\"], \n",
    "                    n_iterations=15, device=device)\n",
    "user_ids = np.arange(test.shape[0])[(train.getnnz(1) > 10) & (test.getnnz(1) > 5)]\n",
    "torch_als.fit(train_val)\n",
    "\n",
    "\n",
    "print(\"Predicting stage\")\n",
    "predictions = torch_als.predict(train_val_for_test, test_active, excluding_predictions=train_val, batch_size=100, drop_cold_users=True,\n",
    "                                 user_ids=user_ids)\n",
    "\n",
    "print(\"NDCG calculating stage\")\n",
    "torch_als_ndcg = [ndcg_at_k(predictions, test_active, k=i).mean() for i in (10, 20, 50, 100)]"
   ]
  },
  {
   "cell_type": "code",
   "execution_count": 45,
   "id": "c8957d9d-c74b-4d09-9e5e-bb282d418257",
   "metadata": {},
   "outputs": [
    {
     "name": "stderr",
     "output_type": "stream",
     "text": [
      "100%|██████████| 30/30 [00:00<00:00, 53.99it/s]\n",
      "100%|██████████| 30/30 [00:00<00:00, 53.90it/s]"
     ]
    },
    {
     "name": "stdout",
     "output_type": "stream",
     "text": [
      "\n",
      "P-value: 3.910802885944211e-96\n",
      "\n"
     ]
    },
    {
     "name": "stderr",
     "output_type": "stream",
     "text": [
      "\n"
     ]
    }
   ],
   "source": [
    "# тестируем\n",
    "random_predictions = np.random.randint(0, train.shape[1], (test_active.shape[0], 20))\n",
    "model_prediction = torch_als.predict(train_for_test, test_active, excluding_predictions=train_val, batch_size=100, drop_cold_users=True, number_of_predictions=20)\n",
    "\n",
    "random_ndcg = ndcg_at_k(random_predictions, test_active, k=20)\n",
    "model_ndcg = ndcg_at_k(model_prediction, test_active, k=20)\n",
    "\n",
    "print(\n",
    "f\"\"\"\n",
    "P-value: {scipy.stats.ttest_ind(random_ndcg, model_ndcg)[1]}\n",
    "\"\"\"\n",
    ")"
   ]
  },
  {
   "cell_type": "markdown",
   "id": "ffd8a63e-40f9-4502-9d38-fcf31ebd8534",
   "metadata": {},
   "source": [
    "Средние значения метрик, полученные с помощью рандомных предсказаний и с помощью предсказаний модели, статистически значимо различаются."
   ]
  },
  {
   "cell_type": "markdown",
   "id": "6df15389-053b-43fb-b1e6-434d88f72a97",
   "metadata": {},
   "source": [
    "### AutoEncoder\n",
    "Это один из видов нейросетевых рекомендаций. Также постарался реализовать эту модель на pytorch. Здесь также можно затюнить гиперпараметры, однако, это куда затруднительнее с точки зрения вычислений. "
   ]
  },
  {
   "cell_type": "code",
   "execution_count": 46,
   "id": "8a27fe22-2e1d-41bd-92fb-3e3352c65ff1",
   "metadata": {
    "scrolled": true,
    "tags": []
   },
   "outputs": [
    {
     "name": "stderr",
     "output_type": "stream",
     "text": [
      "Epoch 1: 100%|██████████| 394/394 [00:25<00:00, 15.37it/s, Train Loss: 320.1041]   \n",
      "100%|██████████| 40/40 [00:00<00:00, 52.68it/s]\n",
      "Epoch 2:   1%|          | 2/394 [00:00<00:27, 14.44it/s, Train Loss: 451.72375]"
     ]
    },
    {
     "name": "stdout",
     "output_type": "stream",
     "text": [
      "Validation NDCG: 0.09756645925484847\n"
     ]
    },
    {
     "name": "stderr",
     "output_type": "stream",
     "text": [
      "Epoch 2: 100%|██████████| 394/394 [00:25<00:00, 15.31it/s, Train Loss: 210.43758] \n",
      "100%|██████████| 40/40 [00:00<00:00, 52.67it/s]\n",
      "Epoch 3:   1%|          | 2/394 [00:00<00:31, 12.61it/s, Train Loss: 288.17816]"
     ]
    },
    {
     "name": "stdout",
     "output_type": "stream",
     "text": [
      "Validation NDCG: 0.09610678633310907\n"
     ]
    },
    {
     "name": "stderr",
     "output_type": "stream",
     "text": [
      "Epoch 3: 100%|██████████| 394/394 [00:25<00:00, 15.27it/s, Train Loss: 123.44775]\n",
      "100%|██████████| 40/40 [00:00<00:00, 52.85it/s]\n",
      "Epoch 4:   1%|          | 2/394 [00:00<00:28, 13.75it/s, Train Loss: 177.11029]"
     ]
    },
    {
     "name": "stdout",
     "output_type": "stream",
     "text": [
      "Validation NDCG: 0.09534182404242565\n"
     ]
    },
    {
     "name": "stderr",
     "output_type": "stream",
     "text": [
      "Epoch 4: 100%|██████████| 394/394 [00:25<00:00, 15.45it/s, Train Loss: 585.3147] \n",
      "100%|██████████| 40/40 [00:00<00:00, 52.91it/s]\n",
      "Epoch 5:   1%|          | 2/394 [00:00<00:29, 13.30it/s, Train Loss: 576.61267]"
     ]
    },
    {
     "name": "stdout",
     "output_type": "stream",
     "text": [
      "Validation NDCG: 0.09497657825057172\n"
     ]
    },
    {
     "name": "stderr",
     "output_type": "stream",
     "text": [
      "Epoch 5: 100%|██████████| 394/394 [00:25<00:00, 15.35it/s, Train Loss: 90.54688]     \n",
      "100%|██████████| 40/40 [00:00<00:00, 52.77it/s]\n",
      "Epoch 6:   1%|          | 2/394 [00:00<00:26, 14.73it/s, Train Loss: 200.18311]"
     ]
    },
    {
     "name": "stdout",
     "output_type": "stream",
     "text": [
      "Validation NDCG: 0.10686153243773526\n"
     ]
    },
    {
     "name": "stderr",
     "output_type": "stream",
     "text": [
      "Epoch 6: 100%|██████████| 394/394 [00:25<00:00, 15.40it/s, Train Loss: 97.15962]  \n",
      "100%|██████████| 40/40 [00:00<00:00, 52.73it/s]\n",
      "Epoch 7:   1%|          | 2/394 [00:00<00:28, 13.86it/s, Train Loss: 367.56152]"
     ]
    },
    {
     "name": "stdout",
     "output_type": "stream",
     "text": [
      "Validation NDCG: 0.10430074535726323\n"
     ]
    },
    {
     "name": "stderr",
     "output_type": "stream",
     "text": [
      "Epoch 7: 100%|██████████| 394/394 [00:25<00:00, 15.39it/s, Train Loss: 582.13391] \n",
      "100%|██████████| 40/40 [00:00<00:00, 52.80it/s]\n",
      "Epoch 8:   1%|          | 2/394 [00:00<00:25, 15.26it/s, Train Loss: 477.42065]"
     ]
    },
    {
     "name": "stdout",
     "output_type": "stream",
     "text": [
      "Validation NDCG: 0.10293957990836208\n"
     ]
    },
    {
     "name": "stderr",
     "output_type": "stream",
     "text": [
      "Epoch 8: 100%|██████████| 394/394 [00:25<00:00, 15.38it/s, Train Loss: 121.87525] \n",
      "100%|██████████| 40/40 [00:00<00:00, 52.76it/s]\n",
      "Epoch 9:   1%|          | 2/394 [00:00<00:25, 15.15it/s, Train Loss: 256.99323]"
     ]
    },
    {
     "name": "stdout",
     "output_type": "stream",
     "text": [
      "Validation NDCG: 0.10418713374798778\n"
     ]
    },
    {
     "name": "stderr",
     "output_type": "stream",
     "text": [
      "Epoch 9: 100%|██████████| 394/394 [00:25<00:00, 15.41it/s, Train Loss: 178.43388] \n",
      "100%|██████████| 40/40 [00:00<00:00, 52.61it/s]\n",
      "Epoch 10:   1%|          | 2/394 [00:00<00:28, 13.55it/s, Train Loss: 321.17081]"
     ]
    },
    {
     "name": "stdout",
     "output_type": "stream",
     "text": [
      "Validation NDCG: 0.10566184081223955\n"
     ]
    },
    {
     "name": "stderr",
     "output_type": "stream",
     "text": [
      "Epoch 10: 100%|██████████| 394/394 [00:25<00:00, 15.32it/s, Train Loss: 207.38052] \n",
      "100%|██████████| 40/40 [00:00<00:00, 52.53it/s]"
     ]
    },
    {
     "name": "stdout",
     "output_type": "stream",
     "text": [
      "Validation NDCG: 0.10289168636471452\n"
     ]
    },
    {
     "name": "stderr",
     "output_type": "stream",
     "text": [
      "\n"
     ]
    }
   ],
   "source": [
    "from src.torch_models import AutoEncoderRecommender\n",
    "\n",
    "val_user_ids = np.arange(validation.shape[0])[(train.getnnz(1) > 10) & (validation.getnnz(1) > 5)]\n",
    "\n",
    "autoencoder = AutoEncoderRecommender(n_items=train.shape[1],\n",
    "                                    layers_dims=[1024, 1024, 1024, 1024, 1024*2],\n",
    "                                    activation='relu',\n",
    "                                    n_epoch=10,\n",
    "                                    device=device,\n",
    "                                    lr=0.005,\n",
    "                                    optimizer='adam',\n",
    "                                    batch_size=256,\n",
    "                                    dropout=0.8,\n",
    "                                    augmentation_step=1)\n",
    "\n",
    "autoencoder.to(device)\n",
    "autoencoder.train()\n",
    "autoencoder.fit(train, val_active, val_user_ids=val_user_ids)"
   ]
  },
  {
   "cell_type": "code",
   "execution_count": 47,
   "id": "a7cca505-9f28-4680-b872-745eec19d7b7",
   "metadata": {},
   "outputs": [],
   "source": [
    "torch.cuda.empty_cache()"
   ]
  },
  {
   "cell_type": "code",
   "execution_count": 48,
   "id": "79d977f2-b1cb-4193-89b4-15c9df1133c6",
   "metadata": {},
   "outputs": [
    {
     "name": "stderr",
     "output_type": "stream",
     "text": [
      "100%|██████████| 30/30 [00:00<00:00, 53.93it/s]\n",
      "100%|██████████| 30/30 [00:00<00:00, 53.42it/s]\n",
      "100%|██████████| 30/30 [00:00<00:00, 52.73it/s]\n",
      "100%|██████████| 30/30 [00:00<00:00, 52.41it/s]\n"
     ]
    }
   ],
   "source": [
    "autoencoder.eval()\n",
    "# autoencoder.load_state_dict(autoencoder.best_params)\n",
    "user_ids = np.arange(test.shape[0])[(train.getnnz(1) > 10) & (test.getnnz(1) > 5)]\n",
    "predictions = autoencoder.predict(train_val, test_active, excluding_predictions=train_val, batch_size=100, drop_cold_users=True,\n",
    "                             user_ids=user_ids)\n",
    "\n",
    "autoencoder_ndcg = [ndcg_at_k(predictions, test_active, k=i).mean() for i in (10, 20, 50, 100)]"
   ]
  },
  {
   "cell_type": "code",
   "execution_count": 49,
   "id": "3481d94d-3bd3-4d0f-b07c-34357bfb8e9d",
   "metadata": {},
   "outputs": [
    {
     "name": "stderr",
     "output_type": "stream",
     "text": [
      "100%|██████████| 30/30 [00:00<00:00, 53.59it/s]\n",
      "100%|██████████| 30/30 [00:00<00:00, 53.74it/s]"
     ]
    },
    {
     "name": "stdout",
     "output_type": "stream",
     "text": [
      "\n",
      "P-value: 4.0536048234926105e-277\n",
      "\n"
     ]
    },
    {
     "name": "stderr",
     "output_type": "stream",
     "text": [
      "\n"
     ]
    }
   ],
   "source": [
    "# тестируем\n",
    "random_predictions = np.random.randint(0, train.shape[1], (test_active.shape[0], 20))\n",
    "model_prediction = autoencoder.predict(train_val, test_active, excluding_predictions=train_val, batch_size=100, drop_cold_users=True,\n",
    "                             user_ids=user_ids, number_of_predictions=20)\n",
    "\n",
    "random_ndcg = ndcg_at_k(random_predictions, test_active, k=20)\n",
    "model_ndcg = ndcg_at_k(model_prediction, test_active, k=20)\n",
    "\n",
    "print(\n",
    "f\"\"\"\n",
    "P-value: {scipy.stats.ttest_ind(random_ndcg, model_ndcg)[1]}\n",
    "\"\"\"\n",
    ")"
   ]
  },
  {
   "cell_type": "markdown",
   "id": "34fc3d96-110a-4e4c-814b-2c73bf7d161e",
   "metadata": {},
   "source": [
    "Средние значения метрик, полученные с помощью рандомных предсказаний и с помощью предсказаний модели, статистически значимо различаются."
   ]
  },
  {
   "cell_type": "markdown",
   "id": "b657811a-9ec4-4c1f-8929-416e11957a60",
   "metadata": {},
   "source": [
    "### Сравнение моделей"
   ]
  },
  {
   "cell_type": "code",
   "execution_count": 50,
   "id": "ccff31fb-15ce-443c-a52d-a47d18b09df6",
   "metadata": {},
   "outputs": [
    {
     "data": {
      "image/png": "[encoded data removed]",
      "text/plain": [
       "<Figure size 648x504 with 1 Axes>"
      ]
     },
     "metadata": {
      "needs_background": "light"
     },
     "output_type": "display_data"
    }
   ],
   "source": [
    "fig, ax = plt.subplots(figsize=(9,7))\n",
    "x = np.arange(0, 4)\n",
    "ax.plot(x, most_pop_ndcg, marker='^', markersize=20, label='Most Popular')\n",
    "ax.plot(x, svd_ndcg, marker='^', markersize=20, label='SVD')\n",
    "ax.plot(x, als_ndcg, marker='^', markersize=20, label='ALS')\n",
    "ax.plot(x, torch_als_ndcg, marker='^', markersize=20, label='Torch_ALS')#\n",
    "ax.plot(x, autoencoder_ndcg, marker='^', markersize=20, label='AutoEncoder')\n",
    "ax.legend()\n",
    "ax.set_xticks(x)\n",
    "labels = [f\"k={i}\" for i in (10, 20, 50, 100)]\n",
    "ax.set_xticklabels(labels)\n",
    "ax.set_xlabel(\"K\")\n",
    "ax.set_ylabel(\"nDCG@k value\")\n",
    "ax.grid()\n",
    "plt.show()"
   ]
  },
  {
   "cell_type": "markdown",
   "id": "5445372e-77ea-4d80-8c6b-d1b3377be5a2",
   "metadata": {},
   "source": [
    "Лучше всего себя показали SVD и ALS модели. AutoEncoder не обошел даже MostPopular модель. Однако, так как AutoEncoder имеет в себе много гиперпараметров, которые стоит настроить, а также, требует больше эпох для лучшего схождения, данный алгоритм может быть улучшен."
   ]
  },
  {
   "cell_type": "markdown",
   "id": "3c60cc21-03c4-4000-8895-81d802539e51",
   "metadata": {},
   "source": [
    "### Предобработка данных признаков фильмов\n",
    "Преобразуем данные в матрицу признаков для фильмов."
   ]
  },
  {
   "cell_type": "code",
   "execution_count": 51,
   "id": "e59a3aa2-41ae-45b4-a6f6-eb2b8a69a1a1",
   "metadata": {},
   "outputs": [],
   "source": [
    "# Подгрущим данные с признаками о фильмах\n",
    "items_features = pd.read_csv('./data/genome_scores.csv')\n",
    "\n",
    "# оставим только фильмы, которые присутсвуют у нас в датасете\n",
    "items_features = items_features[items_features['movieId'].isin(movie_decoder.values())]\n",
    "\n",
    "# Сделаем новые MovieID для создания Sparse Матрицы\n",
    "items_features['movieId'] = items_features['movieId'].apply(lambda x: movie_encoder[x])\n",
    "\n",
    "# id тегов тоже переделаем в нужный формат\n",
    "items_features['tagId'] -= 1\n",
    "\n",
    "# Преобразуем в csr матрицу\n",
    "items_features = sp.csr_matrix((items_features['relevance'], (items_features['movieId'], items_features['tagId'])))"
   ]
  },
  {
   "cell_type": "markdown",
   "id": "6e57f009-34eb-45f0-b82d-6f39442b71f0",
   "metadata": {},
   "source": [
    "### LightFM"
   ]
  },
  {
   "cell_type": "code",
   "execution_count": null,
   "id": "6988d4c0-1b9e-4cbf-856b-aaad79a17837",
   "metadata": {},
   "outputs": [],
   "source": [
    "from lightfm import LightFM\n",
    "\n",
    "lf = LightFM(no_components=30)\n",
    "lf.fit(train_val_for_test, item_features=items_features, epochs=10, num_threads=6)"
   ]
  },
  {
   "cell_type": "markdown",
   "id": "69c6a4a6-24ff-43a0-be66-3486d555336f",
   "metadata": {},
   "source": [
    "### К сожалению, у меня очень долго обучался LightFM, и я не смог проанализировать его результаты :("
   ]
  },
  {
   "cell_type": "markdown",
   "id": "19353850-8b08-4a94-8e04-adaf0201b6d8",
   "metadata": {},
   "source": [
    "### DSSM\n",
    "Попробовал реализовать DSSM на Pytorch. Гиперпараметры также не вычислялись из-за вычислительных ограничений."
   ]
  },
  {
   "cell_type": "code",
   "execution_count": 52,
   "id": "7daeb9b9-090a-4d60-b0b9-043635483635",
   "metadata": {},
   "outputs": [
    {
     "name": "stderr",
     "output_type": "stream",
     "text": [
      "Epoch 1: 100%|██████████| 271/271 [00:38<00:00,  7.10it/s, Train Loss: 1.2409677217468703e+21]\n",
      "100%|██████████| 40/40 [00:00<00:00, 52.75it/s]\n",
      "Epoch 2:   0%|          | 1/271 [00:00<00:40,  6.60it/s, Train Loss: 1.2711688608480169e+21]"
     ]
    },
    {
     "name": "stdout",
     "output_type": "stream",
     "text": [
      "Validation NDCG: 0.11031884623512832\n"
     ]
    },
    {
     "name": "stderr",
     "output_type": "stream",
     "text": [
      "Epoch 2: 100%|██████████| 271/271 [00:38<00:00,  7.11it/s, Train Loss: 5.1637115761588385e+20]\n",
      "100%|██████████| 40/40 [00:00<00:00, 52.63it/s]\n",
      "Epoch 3:   0%|          | 1/271 [00:00<00:40,  6.72it/s, Train Loss: 4.68031524724898e+20]"
     ]
    },
    {
     "name": "stdout",
     "output_type": "stream",
     "text": [
      "Validation NDCG: 0.11024503311835472\n"
     ]
    },
    {
     "name": "stderr",
     "output_type": "stream",
     "text": [
      "Epoch 3: 100%|██████████| 271/271 [00:37<00:00,  7.16it/s, Train Loss: 3.216020845748992e+20] \n",
      "100%|██████████| 40/40 [00:00<00:00, 52.76it/s]\n",
      "Epoch 4:   0%|          | 1/271 [00:00<00:40,  6.70it/s, Train Loss: 3.1184654891020085e+20]"
     ]
    },
    {
     "name": "stdout",
     "output_type": "stream",
     "text": [
      "Validation NDCG: 0.1101828085707756\n"
     ]
    },
    {
     "name": "stderr",
     "output_type": "stream",
     "text": [
      "Epoch 4: 100%|██████████| 271/271 [00:38<00:00,  7.12it/s, Train Loss: 2.237899875647834e+20] \n",
      "100%|██████████| 40/40 [00:00<00:00, 52.57it/s]\n",
      "Epoch 5:   0%|          | 1/271 [00:00<00:41,  6.43it/s, Train Loss: 2.3318987959640785e+20]"
     ]
    },
    {
     "name": "stdout",
     "output_type": "stream",
     "text": [
      "Validation NDCG: 0.10985087122014847\n"
     ]
    },
    {
     "name": "stderr",
     "output_type": "stream",
     "text": [
      "Epoch 5: 100%|██████████| 271/271 [00:38<00:00,  7.10it/s, Train Loss: 1.2513681693597709e+20]\n",
      "100%|██████████| 40/40 [00:00<00:00, 52.93it/s]\n",
      "Epoch 6:   0%|          | 1/271 [00:00<00:40,  6.65it/s, Train Loss: 1.018653542669353e+20]"
     ]
    },
    {
     "name": "stdout",
     "output_type": "stream",
     "text": [
      "Validation NDCG: 0.10967045870230498\n"
     ]
    },
    {
     "name": "stderr",
     "output_type": "stream",
     "text": [
      "Epoch 6: 100%|██████████| 271/271 [00:38<00:00,  7.09it/s, Train Loss: 7.501459422138964e+19] \n",
      "100%|██████████| 40/40 [00:00<00:00, 50.91it/s]\n",
      "Epoch 7:   0%|          | 1/271 [00:00<00:43,  6.17it/s, Train Loss: 9.048380803052365e+19]"
     ]
    },
    {
     "name": "stdout",
     "output_type": "stream",
     "text": [
      "Validation NDCG: 0.10945030345322956\n"
     ]
    },
    {
     "name": "stderr",
     "output_type": "stream",
     "text": [
      "Epoch 7: 100%|██████████| 271/271 [00:38<00:00,  7.01it/s, Train Loss: 6.191358772099678e+19] \n",
      "100%|██████████| 40/40 [00:00<00:00, 52.93it/s]\n",
      "Epoch 8:   0%|          | 1/271 [00:00<00:42,  6.37it/s, Train Loss: 6.5822804556531106e+19]"
     ]
    },
    {
     "name": "stdout",
     "output_type": "stream",
     "text": [
      "Validation NDCG: 0.10954587769080419\n"
     ]
    },
    {
     "name": "stderr",
     "output_type": "stream",
     "text": [
      "Epoch 8: 100%|██████████| 271/271 [00:38<00:00,  7.05it/s, Train Loss: 6.86146756856869e+19]  \n",
      "100%|██████████| 40/40 [00:00<00:00, 52.03it/s]\n",
      "Epoch 9:   0%|          | 1/271 [00:00<00:41,  6.55it/s, Train Loss: 4.672342556494581e+19]"
     ]
    },
    {
     "name": "stdout",
     "output_type": "stream",
     "text": [
      "Validation NDCG: 0.10951990177118412\n"
     ]
    },
    {
     "name": "stderr",
     "output_type": "stream",
     "text": [
      "Epoch 9: 100%|██████████| 271/271 [00:38<00:00,  6.99it/s, Train Loss: 4.107913540031585e+19] \n",
      "100%|██████████| 40/40 [00:00<00:00, 52.37it/s]\n",
      "Epoch 10:   0%|          | 1/271 [00:00<00:41,  6.46it/s, Train Loss: 4.753336981043072e+19]"
     ]
    },
    {
     "name": "stdout",
     "output_type": "stream",
     "text": [
      "Validation NDCG: 0.10921261369910792\n"
     ]
    },
    {
     "name": "stderr",
     "output_type": "stream",
     "text": [
      "Epoch 10: 100%|██████████| 271/271 [00:37<00:00,  7.16it/s, Train Loss: 3.910022557655158e+19] \n",
      "100%|██████████| 40/40 [00:00<00:00, 52.47it/s]"
     ]
    },
    {
     "name": "stdout",
     "output_type": "stream",
     "text": [
      "Validation NDCG: 0.10919725684664172\n"
     ]
    },
    {
     "name": "stderr",
     "output_type": "stream",
     "text": [
      "\n"
     ]
    }
   ],
   "source": [
    "from src.torch_models import DSSM\n",
    "\n",
    "dssm = DSSM(user_dim=128, item_dim=items_features.shape[1], layers_dims=[1024, 512, 256],\n",
    "            device=device, n_users=train.shape[0],\n",
    "           batch_size=512)\n",
    "dssm.to(device)\n",
    "\n",
    "val_user_ids = np.arange(validation.shape[0])[(train.getnnz(1) > 10) & (validation.getnnz(1) > 5)]\n",
    "train_user_ids = np.arange(validation.shape[0])\n",
    "\n",
    "dssm.fit(train, val_active, item_features=items_features, user_ind_train=train_user_ids, user_ind_val=val_user_ids)"
   ]
  },
  {
   "cell_type": "code",
   "execution_count": 53,
   "id": "64b50a06-646e-496e-aace-968a9a1765f5",
   "metadata": {},
   "outputs": [],
   "source": [
    "user_ids = np.arange(test.shape[0])[(train.getnnz(1) > 10) & (test.getnnz(1) > 5)]\n",
    "predictions = dssm.predict(item_features=items_features, number_of_predictions=100, user_ids=user_ids, excluding_predictions=train_val)"
   ]
  },
  {
   "cell_type": "code",
   "execution_count": 59,
   "id": "e12733ad-472c-4803-8cd7-900175c8ad04",
   "metadata": {},
   "outputs": [
    {
     "name": "stderr",
     "output_type": "stream",
     "text": [
      "100%|██████████| 30/30 [00:00<00:00, 53.14it/s]\n",
      "100%|██████████| 30/30 [00:00<00:00, 53.71it/s]\n",
      "100%|██████████| 30/30 [00:00<00:00, 53.02it/s]\n",
      "100%|██████████| 30/30 [00:00<00:00, 51.71it/s]\n"
     ]
    }
   ],
   "source": [
    "ndcg_dssm = [ndcg_at_k(predictions, test_active, k=i).mean() for i in (10, 20, 50, 100)]"
   ]
  },
  {
   "cell_type": "code",
   "execution_count": 60,
   "id": "5ab66e8c-51a7-4d82-a4ce-490cdd51217a",
   "metadata": {},
   "outputs": [
    {
     "data": {
      "image/png": "[encoded data removed]",
      "text/plain": [
       "<Figure size 648x504 with 1 Axes>"
      ]
     },
     "metadata": {
      "needs_background": "light"
     },
     "output_type": "display_data"
    }
   ],
   "source": [
    "fig, ax = plt.subplots(figsize=(9,7))\n",
    "x = np.arange(0, 4)\n",
    "ax.plot(x, most_pop_ndcg, marker='^', markersize=20, label='Most Popular')\n",
    "ax.plot(x, svd_ndcg, marker='^', markersize=20, label='SVD')\n",
    "ax.plot(x, als_ndcg, marker='^', markersize=20, label='ALS')\n",
    "ax.plot(x, torch_als_ndcg, marker='^', markersize=20, label='Torch_ALS')#\n",
    "ax.plot(x, autoencoder_ndcg, marker='^', markersize=20, label='AutoEncoder')\n",
    "ax.plot(x, ndcg_dssm, marker='^', markersize=20, label='DSSM')\n",
    "ax.legend()\n",
    "ax.set_xticks(x)\n",
    "labels = [f\"k={i}\" for i in (10, 20, 50, 100)]\n",
    "ax.set_xticklabels(labels)\n",
    "ax.set_xlabel(\"K\")\n",
    "ax.set_ylabel(\"nDCG@k value\")\n",
    "ax.grid()\n",
    "plt.show()"
   ]
  },
  {
   "cell_type": "markdown",
   "id": "8622f034-74ea-459f-afbe-4eaf96d2bbd0",
   "metadata": {},
   "source": [
    "DSSM также может быть улучшена путем более тщательной настройки гиперпараметров и обучения на большем количестве эпох."
   ]
  },
  {
   "cell_type": "code",
   "execution_count": 57,
   "id": "db26685c-08df-4cdb-b22b-2246b3c28307",
   "metadata": {},
   "outputs": [
    {
     "name": "stderr",
     "output_type": "stream",
     "text": [
      "100%|██████████| 30/30 [00:00<00:00, 54.29it/s]\n",
      "100%|██████████| 30/30 [00:00<00:00, 53.97it/s]"
     ]
    },
    {
     "name": "stdout",
     "output_type": "stream",
     "text": [
      "\n",
      "P-value: 0.0\n",
      "\n"
     ]
    },
    {
     "name": "stderr",
     "output_type": "stream",
     "text": [
      "\n"
     ]
    }
   ],
   "source": [
    "# тестируем\n",
    "random_predictions = np.random.randint(0, train.shape[1], (test_active.shape[0], 20))\n",
    "model_prediction = dssm.predict(item_features=items_features, number_of_predictions=20, user_ids=user_ids, excluding_predictions=train_val,)\n",
    "\n",
    "random_ndcg = ndcg_at_k(random_predictions, test_active, k=20)\n",
    "model_ndcg = ndcg_at_k(model_prediction, test_active, k=20)\n",
    "\n",
    "print(\n",
    "f\"\"\"\n",
    "P-value: {scipy.stats.ttest_ind(random_ndcg, model_ndcg)[1]}\n",
    "\"\"\"\n",
    ")"
   ]
  },
  {
   "cell_type": "markdown",
   "id": "86eca74e-d13f-4113-b289-37b4dd93ef46",
   "metadata": {},
   "source": [
    "Средние значения метрик, полученные с помощью рандомных предсказаний и с помощью предсказаний модели, статистически значимо различаются."
   ]
  },
  {
   "cell_type": "markdown",
   "id": "27879ffc-0b28-4a31-bce9-b3de9bae15c8",
   "metadata": {},
   "source": [
    "---"
   ]
  },
  {
   "cell_type": "markdown",
   "id": "b6eb550e-a056-4d14-bac5-7dbc2caed8eb",
   "metadata": {},
   "source": [
    "### Что можно еще было бы реализовать:\n",
    "* По моделям, использующим только коллаборативный подход: Использовать модели, основанные на других разложениях (SVD++, Factorization Machines, DeepMF, ...)\n",
    "* По моделям, испольпользующим колабборативный и контентный подходы: Развивать идею DSSM, использовать другие модели, основанные на параллельных сетях (Например, CoNet)\n",
    "* По данным: Преобразовать оценки в бинарные признаки, или какие-то другие, где также можно высчитать позитивный негативный фидбэк. Также использовать другие лоссы и метрики.\n",
    "* По статистической проверке: Можно посчитать доверительные интервалы для метрик nDCG с помощью bootsrap-выборок без возвращения, чтобы посмотреть, как они изменяются при увеличении K (как изменяется размер интервала, повторяет ли он динамику основной величины)\n",
    "* Также стоит в иных кейсах тюнить гиперпараметры всех моделей. Отдельно обрабатывать холодных пользователей и холодные айтемы."
   ]
  }
 ],
 "metadata": {
  "kernelspec": {
   "display_name": "Python 3",
   "language": "python",
   "name": "python3"
  },
  "language_info": {
   "codemirror_mode": {
    "name": "ipython",
    "version": 3
   },
   "file_extension": ".py",
   "mimetype": "text/x-python",
   "name": "python",
   "nbconvert_exporter": "python",
   "pygments_lexer": "ipython3",
   "version": "3.9.5"
  }
 },
 "nbformat": 4,
 "nbformat_minor": 5
}
