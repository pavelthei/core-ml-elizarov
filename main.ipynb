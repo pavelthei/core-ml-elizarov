{
 "cells": [
  {
   "cell_type": "markdown",
   "id": "82a4b946-f415-490a-b2a7-adda15c789df",
   "metadata": {},
   "source": [
    "### Set-up:\n",
    "\n",
    "* Для выполнения данного задания я использовал **Docker**. Для сборки образа можно воспользоваться следующей командой: `docker build -t core-ml .`\n",
    "* Также, я использую GPU в контейнере. Для этого необходимо установить дополнительное расширения для Docker. \n",
    "* Для запуска контейнера я воспользовался следующей командой: `docker run -it -p 8888:8888 -v $(pwd):/app --gpus all core-ml`.\n",
    "\n",
    "Выполнил [Елизаров Павел](https://vk.com/epepepepepepepepepepepepepepepep)."
   ]
  },
  {
   "cell_type": "markdown",
   "id": "b7107024-78ec-47b4-aadd-ab3c25d84d1a",
   "metadata": {},
   "source": [
    "---"
   ]
  },
  {
   "cell_type": "markdown",
   "id": "5a7130dd-4fe9-4b37-866a-2e718a6c6b91",
   "metadata": {},
   "source": [
    "### Импорт необходимых библиотек"
   ]
  },
  {
   "cell_type": "code",
   "execution_count": 1,
   "id": "91c584ae-fa74-44f8-9e30-921955222cf6",
   "metadata": {},
   "outputs": [],
   "source": [
    "import pandas as pd\n",
    "import numpy as np\n",
    "import os\n",
    "import matplotlib.pyplot as plt\n",
    "import scipy.sparse as sp\n",
    "import torch\n",
    "import scipy\n",
    "import optuna\n",
    "from tqdm import tqdm"
   ]
  },
  {
   "cell_type": "markdown",
   "id": "b159f428-b4a4-47bf-a0f3-5d3e38e87b90",
   "metadata": {},
   "source": [
    "### Предобработка для работы над моделями коллаборативной фильрации:\n",
    "Здесь сначала преобразуется часть исключительно для коллаборативной части"
   ]
  },
  {
   "cell_type": "code",
   "execution_count": 2,
   "id": "d67a03a4-e568-48c6-8280-62c6492f4105",
   "metadata": {},
   "outputs": [],
   "source": [
    "# Начнем с самого вкусного - с рейтингов\n",
    "ratings = pd.read_csv('./data/rating.csv')\n",
    "# Трансформируем в timestamp для более удобной работы\n",
    "ratings['timestamp'] = pd.to_datetime(ratings['timestamp']).astype('int64') // 10**9"
   ]
  },
  {
   "cell_type": "markdown",
   "id": "4d50f966-535e-4221-aa7f-13244bc97a3c",
   "metadata": {},
   "source": [
    "Следует проверить, какие фильмы просмотрели редко, а какие часто. Это позволит оставить только те фильмы, которые не будут зашумлять работу коллаборативной фильтрации. \n",
    "Для того, чтобы убрать редко-просматриваемые фильмы, воспользуемся правилом \"логтя\"."
   ]
  },
  {
   "cell_type": "code",
   "execution_count": 3,
   "id": "5a24811b-1af3-4039-a86b-f694b424a1f4",
   "metadata": {},
   "outputs": [
    {
     "data": {
      "image/png": "[encoded data removed]",
      "text/plain": [
       "<Figure size 648x504 with 1 Axes>"
      ]
     },
     "metadata": {
      "needs_background": "light"
     },
     "output_type": "display_data"
    }
   ],
   "source": [
    "counts = ratings.groupby('movieId')['userId'].count()\n",
    "\n",
    "plt.figure(figsize=(9, 7))\n",
    "plt.hist(counts[counts < 100], bins=50)\n",
    "# Число 11 - ложится на логоть\n",
    "plt.axvline(11, color='red', linestyle='--')\n",
    "plt.show()"
   ]
  },
  {
   "cell_type": "markdown",
   "id": "431de659-9b78-4bbc-b6fb-9c1de9bf1f50",
   "metadata": {},
   "source": [
    "Уберем те фильмы, которые встречаются очень редко, а именно, которые встречаются меньше 11 раз"
   ]
  },
  {
   "cell_type": "code",
   "execution_count": 4,
   "id": "420d6bfd-91a5-408a-a416-4e538e162e2f",
   "metadata": {},
   "outputs": [],
   "source": [
    "ratings = ratings[ratings['movieId'].isin(counts[counts >= 11].index)]"
   ]
  },
  {
   "cell_type": "markdown",
   "id": "ba65f8ee-8384-4dfd-a6be-b9f2e0b89d3f",
   "metadata": {},
   "source": [
    "### Разделение на тренировочную, валидационную и тестовую выборки:\n",
    "\n",
    "* Для разделения на выборки стоит использовать критерий по времени. То есть, в тестовой и валидационной выборках должны присутствовать взаимодействия, которые произошли после взаимодействий из тренировочной выборки. Выберем 70% данных на тренировочную выборку, 10% на валидационную выборку и 20% на тест. \n",
    "* Тренировочная выбора создается для обучения моделей, валидационная - для настройки гиперпараметров, тестовая - для анализа качества модели.\n",
    "* Все выборки преобразуем к sparse csr матрицам с фиксированным размером всего датасета."
   ]
  },
  {
   "cell_type": "code",
   "execution_count": 5,
   "id": "01ebb157-375b-4dce-81ac-55d7fe71f184",
   "metadata": {},
   "outputs": [],
   "source": [
    "# Переделаем индексы, чтобы было проще работать со sparse-матрицами: создадим энкодеры и декодеры в последовательные id\n",
    "movie_encoder = {k: v for v, k in enumerate(np.unique(ratings['movieId']))}\n",
    "user_encoder = {k: v for v, k in enumerate(np.unique(ratings['userId']))}\n",
    "movie_decoder = {k: v for k, v in enumerate(np.unique(ratings['movieId']))}\n",
    "user_decoder = {k: v for k, v in enumerate(np.unique(ratings['userId']))}\n",
    "\n",
    "# Переделаем Id\n",
    "ratings['movieId'] = ratings['movieId'].apply(lambda x: movie_encoder[x])\n",
    "ratings['userId'] = ratings['userId'].apply(lambda x: user_encoder[x])\n",
    "\n",
    "\n",
    "\n",
    "# Выбор трешхолдов для разделения на тренировочную, валидационную и тесовую выборки:\n",
    "val_threshold, test_threshold = np.percentile(ratings['timestamp'], 70), np.percentile(ratings['timestamp'], 80)\n",
    "\n",
    "# Разделяем датасеты:\n",
    "train, train_val, validation, test = ratings[ratings['timestamp'] < val_threshold],\\\n",
    "                                                 ratings[ratings['timestamp'] < test_threshold],\\\n",
    "                                                 ratings[(ratings['timestamp'] >= val_threshold) & (ratings['timestamp'] < test_threshold)],\\\n",
    "                                                 ratings[ratings['timestamp'] >= test_threshold]\n",
    "\n",
    "# Также сохраним количество уникальных пользователей и количество уникальных фильмов для созранения sparse матриц.\n",
    "matrix_shape = (len(np.unique(ratings['userId'])), len(np.unique(ratings['movieId'])))\n",
    "\n",
    "# Преобразование в sparse-матрицы\n",
    "train, train_val, validation, test = sp.csr_matrix((train['rating'], (train['userId'], train['movieId'])), shape=matrix_shape),\\\n",
    "                                     sp.csr_matrix((train_val['rating'], (train_val['userId'], train_val['movieId'])), shape=matrix_shape),\\\n",
    "                                     sp.csr_matrix((validation['rating'], (validation['userId'], validation['movieId'])), shape=matrix_shape),\\\n",
    "                                     sp.csr_matrix((test['rating'], (test['userId'], test['movieId'])), shape=matrix_shape)"
   ]
  },
  {
   "cell_type": "markdown",
   "id": "913177ea-04c1-4623-9d20-403cc94e2612",
   "metadata": {},
   "source": [
    "---"
   ]
  },
  {
   "cell_type": "markdown",
   "id": "6db6aaf9-8815-4a19-bfa2-dbc0caec55e5",
   "metadata": {},
   "source": [
    "### Пробуем применить только коллаборативный подход: *MostPopular-модель*, *SVD-like*, *ALS*, и *AutoEncoder*.\n",
    "\n"
   ]
  },
  {
   "cell_type": "markdown",
   "id": "074f43ea-4c53-4eee-b109-3c99d8101efb",
   "metadata": {},
   "source": [
    "---\n",
    "\n",
    "#### _Немного о метрике качества:_\n",
    "\n",
    "Для измерения качества, я выбрал метрику ранжирования **nDCG@k**. Это метрика ранжирования, где степень релевантности задается не бинарной величиной. Так как в нашем случае релевантность задается оценкой, степень релевантности - не бинарная. \n",
    "\n",
    "---\n",
    "\n",
    "Также можно использовать **MAP@k**, однако, тогда оценки придется переводить в бинарные. (Например, 1 - если оценка выше или рана 4, 0 - иначе).\n",
    "\n",
    "#### _Немного о статистической проверке:_\n",
    "После предсказаний для каждого пользователя, мы можем расчитать для них метрику nDCG@k. Для каждой модели будем проверять, различаются ли метрики, составленные из рекомендаций моделей, от метрик, составленных из рандомных рекомендаций с помошью t-теста. k выберем равным 20.\n",
    "\n",
    "---\n",
    "\n",
    "#### _Немного о настройке гиперпараметров:_\n",
    "Для некоторых моделей я буду настраивать гиперпараметры с помощью Байесовского алгоритма, реализованного в библиотеке *optuna*. Также для настройки гиперпарамтров можно использовать поиск по сетке или случайный поиск. Во время настройки гиперпараметров будем ориентироваться на качество валидационной выборки.\n",
    "\n",
    "---"
   ]
  },
  {
   "cell_type": "code",
   "execution_count": 6,
   "id": "c9c4358b-ebd4-4464-9b47-2eb69b0f9d4f",
   "metadata": {},
   "outputs": [],
   "source": [
    "# Импортируем модели\n",
    "from src.models import MostPopular, SVDRecommender, RandomRecommender\n",
    "from src.torch_models import TorchALS, AutoEncoderRecommender\n",
    "\n",
    "# Импортируем ALS из библиотеки implicit \n",
    "from implicit.als import AlternatingLeastSquares\n",
    "\n",
    "# Импортируем метрику\n",
    "from src.utils import ndcg_at_k\n",
    "\n",
    "device = 'cuda' if torch.cuda.is_available() else 'cpu'"
   ]
  },
  {
   "cell_type": "markdown",
   "id": "8064140e-5f36-4e00-b4fd-ec3c76299a71",
   "metadata": {},
   "source": [
    "Для того, чтобы сэкономить память, проверять качество модели будем для самых активных пользователей, а именно для тех, кто всего посмотрел больше 20 фильмов, а за время тестового периода - больше 5.\n",
    "То же самое сделаем для валидации."
   ]
  },
  {
   "cell_type": "code",
   "execution_count": 7,
   "id": "2a253ae7-c804-4033-8ea8-66e8135596eb",
   "metadata": {},
   "outputs": [],
   "source": [
    "test_active, train_for_test, train_val_for_test= test[(train.getnnz(1) > 10) & (test.getnnz(1) > 5)], train[(train.getnnz(1) > 10) & (test.getnnz(1) > 5)],\\\n",
    "                                                 train_val[(train.getnnz(1) > 10) & (test.getnnz(1) > 5)]\n",
    "val_active, train_for_val = validation[(train.getnnz(1) > 10) & (validation.getnnz(1) > 5)], train[(train.getnnz(1) > 10) & (validation.getnnz(1) > 5)]"
   ]
  },
  {
   "cell_type": "markdown",
   "id": "ed4fbe59-76dd-4e6d-9bf1-3a35e339e50e",
   "metadata": {},
   "source": [
    "### Most Popular: \n",
    "Основана на том, что берет либо самые популярные фильмы, либо лучшие по рейтингу"
   ]
  },
  {
   "cell_type": "code",
   "execution_count": 8,
   "id": "4b304db6-8426-43ae-90a7-640e5a09722d",
   "metadata": {},
   "outputs": [
    {
     "name": "stderr",
     "output_type": "stream",
     "text": [
      "  3%|▎         | 1/30 [00:00<00:03,  8.79it/s]"
     ]
    },
    {
     "name": "stdout",
     "output_type": "stream",
     "text": [
      "Predicting stage\n"
     ]
    },
    {
     "name": "stderr",
     "output_type": "stream",
     "text": [
      "100%|██████████| 30/30 [00:03<00:00,  8.98it/s]\n",
      " 20%|██        | 6/30 [00:00<00:00, 51.57it/s]"
     ]
    },
    {
     "name": "stdout",
     "output_type": "stream",
     "text": [
      "NDCG calculating stage\n"
     ]
    },
    {
     "name": "stderr",
     "output_type": "stream",
     "text": [
      "100%|██████████| 30/30 [00:00<00:00, 52.85it/s]\n",
      "100%|██████████| 30/30 [00:00<00:00, 52.81it/s]\n",
      "100%|██████████| 30/30 [00:00<00:00, 52.25it/s]\n",
      "100%|██████████| 30/30 [00:00<00:00, 51.97it/s]\n"
     ]
    }
   ],
   "source": [
    "# Тренируем и смотрим на перформанс MostPopular\n",
    "most_pop = MostPopular(popularity_type='by_rating')\n",
    "most_pop.fit(train_val)\n",
    "print(\"Predicting stage\")\n",
    "predictions = most_pop.predict(train_for_test, test_active, excluding_predictions=train_val_for_test, batch_size=100, drop_cold_users=True)\n",
    "\n",
    "print(\"NDCG calculating stage\")\n",
    "# Считаем метрику\n",
    "most_pop_ndcg = [ndcg_at_k(predictions, test_active, k=i).mean() for i in (10, 20, 50, 100)]"
   ]
  },
  {
   "cell_type": "code",
   "execution_count": 9,
   "id": "5eb372f0-2621-4ff1-bfc6-705bdf240ad8",
   "metadata": {},
   "outputs": [
    {
     "name": "stderr",
     "output_type": "stream",
     "text": [
      "100%|██████████| 30/30 [00:03<00:00,  9.17it/s]\n",
      "100%|██████████| 30/30 [00:00<00:00, 54.36it/s]\n",
      "100%|██████████| 30/30 [00:00<00:00, 54.36it/s]"
     ]
    },
    {
     "name": "stdout",
     "output_type": "stream",
     "text": [
      "\n",
      "P-value: 6.18506653378542e-303\n",
      "\n"
     ]
    },
    {
     "name": "stderr",
     "output_type": "stream",
     "text": [
      "\n"
     ]
    }
   ],
   "source": [
    "# тестируем\n",
    "random_predictor = RandomRecommender()\n",
    "random_predictor.predict(test_active, excluding_predictions=train_val_for_test, random_state=123)\n",
    "# random_predictions = np.random.randint(0, train.shape[1], (test_active.shape[0], 20))\n",
    "random_predictions = random_predictor.predict(test_active, excluding_predictions=train_val_for_test, random_state=123, number_of_predictions=20)\n",
    "model_prediction = most_pop.predict(train_for_test, test_active, excluding_predictions=train_val_for_test, batch_size=100, drop_cold_users=True, number_of_predictions=20)\n",
    "\n",
    "random_ndcg = ndcg_at_k(random_predictions, test_active, k=20)\n",
    "model_ndcg = ndcg_at_k(model_prediction, test_active, k=20)\n",
    "\n",
    "print(\n",
    "f\"\"\"\n",
    "P-value: {scipy.stats.ttest_ind(random_ndcg, model_ndcg)[1]}\n",
    "\"\"\"\n",
    ")\n"
   ]
  },
  {
   "cell_type": "markdown",
   "id": "2aa91807-741b-45f8-9149-df69d72fa9fd",
   "metadata": {},
   "source": [
    "Средние значения метрик, полученные с помощью рандомных предсказаний и с помощью предсказаний модели, статистически значимо различаются."
   ]
  },
  {
   "cell_type": "markdown",
   "id": "11d1c5b4-a003-4834-8021-a31d71d04dc7",
   "metadata": {},
   "source": [
    "### SVD:\n",
    "Основана на SVD-разложении"
   ]
  },
  {
   "cell_type": "code",
   "execution_count": 10,
   "id": "18cd3d1a-5735-45bb-a8a7-7e37cb554bb2",
   "metadata": {},
   "outputs": [
    {
     "name": "stderr",
     "output_type": "stream",
     "text": [
      "\u001b[32m[I 2021-06-26 20:14:38,390]\u001b[0m A new study created in memory with name: no-name-08ef43f9-a4f3-4f27-a47f-74c094984c7a\u001b[0m\n",
      "100%|██████████| 40/40 [00:00<00:00, 54.30it/s]\n",
      "\u001b[32m[I 2021-06-26 20:15:08,741]\u001b[0m Trial 0 finished with value: 0.1437793147346196 and parameters: {'n_components': 60, 'n_iter': 20}. Best is trial 0 with value: 0.1437793147346196.\u001b[0m\n",
      "100%|██████████| 40/40 [00:00<00:00, 53.99it/s]\n",
      "\u001b[32m[I 2021-06-26 20:15:38,592]\u001b[0m Trial 1 finished with value: 0.14375745266130424 and parameters: {'n_components': 60, 'n_iter': 20}. Best is trial 0 with value: 0.1437793147346196.\u001b[0m\n",
      "100%|██████████| 40/40 [00:00<00:00, 54.48it/s]\n",
      "\u001b[32m[I 2021-06-26 20:16:14,067]\u001b[0m Trial 2 finished with value: 0.13687632240507933 and parameters: {'n_components': 100, 'n_iter': 15}. Best is trial 0 with value: 0.1437793147346196.\u001b[0m\n"
     ]
    },
    {
     "name": "stdout",
     "output_type": "stream",
     "text": [
      "Predicting stage\n"
     ]
    },
    {
     "name": "stderr",
     "output_type": "stream",
     "text": [
      " 20%|██        | 6/30 [00:00<00:00, 53.54it/s]"
     ]
    },
    {
     "name": "stdout",
     "output_type": "stream",
     "text": [
      "NDCG calculating stage\n"
     ]
    },
    {
     "name": "stderr",
     "output_type": "stream",
     "text": [
      "100%|██████████| 30/30 [00:00<00:00, 54.15it/s]\n",
      "100%|██████████| 30/30 [00:00<00:00, 53.33it/s]\n",
      "100%|██████████| 30/30 [00:00<00:00, 53.58it/s]\n",
      "100%|██████████| 30/30 [00:00<00:00, 52.69it/s]\n"
     ]
    }
   ],
   "source": [
    "# Применим оптимизацию гиперпараметров\n",
    "val_user_ids = np.arange(validation.shape[0])[(train.getnnz(1) > 10) & (validation.getnnz(1) > 5)]\n",
    "def objective(trial):\n",
    "    n_components = trial.suggest_int(\"n_components\", 60, 100, 20)\n",
    "    n_iter = trial.suggest_int(\"n_iter\", 10, 20, 5)\n",
    "    svd_rec = SVDRecommender(n_components=n_components, n_iter=n_iter)\n",
    "    svd_rec.fit(train)\n",
    "    predictions = svd_rec.predict(train, val_active, excluding_predictions=train, batch_size=100, drop_cold_users=True,\n",
    "                             user_ids=val_user_ids)\n",
    "    \n",
    "    return ndcg_at_k(predictions, val_active, k=20).mean()\n",
    "\n",
    "study = optuna.create_study(direction='maximize')\n",
    "study.optimize(objective, n_trials=3)\n",
    "\n",
    "best_params = study.best_params\n",
    "\n",
    "svd_rec = SVDRecommender(**best_params)\n",
    "svd_rec.fit(train_val)\n",
    "user_ids = np.arange(test.shape[0])[(train.getnnz(1) > 10) & (test.getnnz(1) > 5)]\n",
    "\n",
    "print(\"Predicting stage\")\n",
    "predictions = svd_rec.predict(train_val_for_test, test_active, excluding_predictions=train_val, batch_size=100, drop_cold_users=True,\n",
    "                             user_ids=user_ids)\n",
    "\n",
    "print(\"NDCG calculating stage\")\n",
    "# Считаем метрику\n",
    "svd_ndcg = [ndcg_at_k(predictions, test_active, k=i).mean() for i in (10, 20, 50, 100)]"
   ]
  },
  {
   "cell_type": "code",
   "execution_count": 11,
   "id": "28ebd032-a9e4-4be0-96b2-bf8e1e4e8755",
   "metadata": {},
   "outputs": [
    {
     "name": "stderr",
     "output_type": "stream",
     "text": [
      "100%|██████████| 30/30 [00:00<00:00, 54.15it/s]\n",
      "100%|██████████| 30/30 [00:00<00:00, 54.04it/s]"
     ]
    },
    {
     "name": "stdout",
     "output_type": "stream",
     "text": [
      "\n",
      "P-value: 2.1889036417709382e-63\n",
      "\n"
     ]
    },
    {
     "name": "stderr",
     "output_type": "stream",
     "text": [
      "\n"
     ]
    }
   ],
   "source": [
    "# тестируем\n",
    "random_predictor = RandomRecommender()\n",
    "random_predictor.predict(test_active, excluding_predictions=train_val_for_test, random_state=123)\n",
    "model_prediction = svd_rec.predict(train_for_test, test_active, excluding_predictions=train_val, batch_size=100, drop_cold_users=True, number_of_predictions=20)\n",
    "\n",
    "random_ndcg = ndcg_at_k(random_predictions, test_active, k=20)\n",
    "model_ndcg = ndcg_at_k(model_prediction, test_active, k=20)\n",
    "\n",
    "print(\n",
    "f\"\"\"\n",
    "P-value: {scipy.stats.ttest_ind(random_ndcg, model_ndcg)[1]}\n",
    "\"\"\"\n",
    ")"
   ]
  },
  {
   "cell_type": "markdown",
   "id": "9eef8c75-c45c-4fc2-a948-2966fb093b51",
   "metadata": {},
   "source": [
    "Средние значения метрик, полученные с помощью рандомных предсказаний и с помощью предсказаний модели, статистически значимо различаются."
   ]
  },
  {
   "cell_type": "markdown",
   "id": "c15d1709-670f-4b53-b72b-6c4fd251fe70",
   "metadata": {},
   "source": [
    "### ALS from Implicit\n",
    "Готовая реализация ALS модели из библиотеки `implicit`."
   ]
  },
  {
   "cell_type": "code",
   "execution_count": 12,
   "id": "76e463b7-7f08-4246-aaa9-6efb6c092a72",
   "metadata": {},
   "outputs": [
    {
     "name": "stderr",
     "output_type": "stream",
     "text": [
      "\u001b[32m[I 2021-06-26 20:16:53,913]\u001b[0m A new study created in memory with name: no-name-1b562ffa-0d5c-48c7-b186-c8743c24aa04\u001b[0m\n",
      "WARNING:root:OpenBLAS detected. Its highly recommend to set the environment variable 'export OPENBLAS_NUM_THREADS=1' to disable its internal multithreading\n",
      "100%|██████████| 40/40 [00:00<00:00, 52.72it/s]\n",
      "\u001b[32m[I 2021-06-26 20:21:13,908]\u001b[0m Trial 0 finished with value: 0.12679326594850088 and parameters: {'factors': 96, 'regularization': 0.0157811260905565}. Best is trial 0 with value: 0.12679326594850088.\u001b[0m\n",
      "100%|██████████| 40/40 [00:00<00:00, 53.86it/s]\n",
      "\u001b[32m[I 2021-06-26 20:25:36,893]\u001b[0m Trial 1 finished with value: 0.1274288682905004 and parameters: {'factors': 96, 'regularization': 0.07161748063785628}. Best is trial 1 with value: 0.1274288682905004.\u001b[0m\n",
      "100%|██████████| 40/40 [00:00<00:00, 52.81it/s]\n",
      "\u001b[32m[I 2021-06-26 20:29:58,635]\u001b[0m Trial 2 finished with value: 0.12740563329061524 and parameters: {'factors': 96, 'regularization': 0.05860324147756538}. Best is trial 1 with value: 0.1274288682905004.\u001b[0m\n"
     ]
    },
    {
     "name": "stdout",
     "output_type": "stream",
     "text": [
      "Predicting stage\n"
     ]
    },
    {
     "name": "stderr",
     "output_type": "stream",
     "text": [
      " 17%|█▋        | 5/30 [00:00<00:00, 45.38it/s]"
     ]
    },
    {
     "name": "stdout",
     "output_type": "stream",
     "text": [
      "NDCG calculating stage\n"
     ]
    },
    {
     "name": "stderr",
     "output_type": "stream",
     "text": [
      "100%|██████████| 30/30 [00:00<00:00, 52.39it/s]\n",
      "100%|██████████| 30/30 [00:00<00:00, 53.81it/s]\n",
      "100%|██████████| 30/30 [00:00<00:00, 53.35it/s]\n",
      "100%|██████████| 30/30 [00:00<00:00, 52.76it/s]\n"
     ]
    }
   ],
   "source": [
    "# Применим оптимизацию гиперпараметров\n",
    "val_user_ids = np.arange(validation.shape[0])[(train.getnnz(1) > 10) & (validation.getnnz(1) > 5)]\n",
    "def objective(trial):\n",
    "    factors = trial.suggest_int(\"factors\", 64, 128, 32)\n",
    "    regularization = trial.suggest_uniform(\"regularization\", 0.01, 0.1)\n",
    "    implicit_als = AlternatingLeastSquares(factors=factors, iterations=15, regularization=regularization)\n",
    "    implicit_als.fit(train.transpose(), show_progress=False)\n",
    "    predictions = [np.array(list(map(lambda x: x[0], implicit_als.recommend(i, train, N=20)))) for i in val_user_ids]\n",
    "    predictions = np.vstack(predictions)\n",
    "    \n",
    "    return ndcg_at_k(predictions, val_active, k=20).mean()\n",
    "\n",
    "study = optuna.create_study(direction='maximize')\n",
    "study.optimize(objective, n_trials=3)\n",
    "\n",
    "best_params = study.best_params\n",
    "\n",
    "implicit_als = AlternatingLeastSquares(**best_params)\n",
    "\n",
    "user_ids = np.arange(test.shape[0])[(train.getnnz(1) > 10) & (test.getnnz(1) > 5)]\n",
    "\n",
    "# Требует матрицу Items X Users, поэтому транспонируем\n",
    "implicit_als.fit(train_val.transpose(), show_progress=False)\n",
    "\n",
    "print(\"Predicting stage\")\n",
    "predictions = [np.array(list(map(lambda x: x[0], implicit_als.recommend(i, train_val, N=100)))) for i in user_ids]\n",
    "predictions = np.vstack(predictions)\n",
    "\n",
    "print(\"NDCG calculating stage\")\n",
    "als_ndcg = [ndcg_at_k(predictions, test_active, k=i).mean() for i in (10, 20, 50, 100)]"
   ]
  },
  {
   "cell_type": "code",
   "execution_count": 13,
   "id": "47e1093e-605f-4c30-ac60-0227cfa27da9",
   "metadata": {},
   "outputs": [
    {
     "name": "stderr",
     "output_type": "stream",
     "text": [
      "100%|██████████| 30/30 [00:00<00:00, 52.14it/s]\n",
      "100%|██████████| 30/30 [00:00<00:00, 54.10it/s]"
     ]
    },
    {
     "name": "stdout",
     "output_type": "stream",
     "text": [
      "\n",
      "P-value: 0.0\n",
      "\n"
     ]
    },
    {
     "name": "stderr",
     "output_type": "stream",
     "text": [
      "\n"
     ]
    }
   ],
   "source": [
    "# тестируем\n",
    "random_predictor = RandomRecommender()\n",
    "random_predictor.predict(test_active, excluding_predictions=train_val_for_test, random_state=123)\n",
    "model_prediction = [np.array(list(map(lambda x: x[0], implicit_als.recommend(i, train_val, N=100)))) for i in user_ids]\n",
    "model_prediction = np.vstack(model_prediction)\n",
    "\n",
    "random_ndcg = ndcg_at_k(random_predictions, test_active, k=20)\n",
    "model_ndcg = ndcg_at_k(model_prediction, test_active, k=20)\n",
    "\n",
    "print(\n",
    "f\"\"\"\n",
    "P-value: {scipy.stats.ttest_ind(random_ndcg, model_ndcg)[1]}\n",
    "\"\"\"\n",
    ")"
   ]
  },
  {
   "cell_type": "markdown",
   "id": "d12b9d40-aa98-42f2-a574-1aa1526cfd7a",
   "metadata": {},
   "source": [
    "Средние значения метрик, полученные с помощью рандомных предсказаний и с помощью предсказаний модели, статистически значимо различаются."
   ]
  },
  {
   "cell_type": "markdown",
   "id": "e93f9b5a-a614-4dd5-b342-3df7558f2817",
   "metadata": {},
   "source": [
    "### Torch ALS\n",
    "Попробовал реализовать собственную версию ALS на PyTorch. Гиперпараметры оставлю с прошлой модели"
   ]
  },
  {
   "cell_type": "code",
   "execution_count": 14,
   "id": "3e293606-eed1-4db7-b1a0-65aa97ff5180",
   "metadata": {},
   "outputs": [
    {
     "name": "stderr",
     "output_type": "stream",
     "text": [
      "100%|██████████| 15/15 [03:44<00:00, 14.95s/it]\n"
     ]
    },
    {
     "name": "stdout",
     "output_type": "stream",
     "text": [
      "Predicting stage\n"
     ]
    },
    {
     "name": "stderr",
     "output_type": "stream",
     "text": [
      " 20%|██        | 6/30 [00:00<00:00, 53.93it/s]"
     ]
    },
    {
     "name": "stdout",
     "output_type": "stream",
     "text": [
      "NDCG calculating stage\n"
     ]
    },
    {
     "name": "stderr",
     "output_type": "stream",
     "text": [
      "100%|██████████| 30/30 [00:00<00:00, 54.58it/s]\n",
      "100%|██████████| 30/30 [00:00<00:00, 54.34it/s]\n",
      "100%|██████████| 30/30 [00:00<00:00, 53.33it/s]\n",
      "100%|██████████| 30/30 [00:00<00:00, 52.86it/s]\n"
     ]
    }
   ],
   "source": [
    "torch_als = TorchALS(n_factors=best_params[\"factors\"], regularization=best_params[\"regularization\"], \n",
    "                    n_iterations=15, device=device)\n",
    "user_ids = np.arange(test.shape[0])[(train.getnnz(1) > 10) & (test.getnnz(1) > 5)]\n",
    "torch_als.fit(train_val)\n",
    "\n",
    "\n",
    "print(\"Predicting stage\")\n",
    "predictions = torch_als.predict(train_val_for_test, test_active, excluding_predictions=train_val, batch_size=100, drop_cold_users=True,\n",
    "                                 user_ids=user_ids)\n",
    "\n",
    "print(\"NDCG calculating stage\")\n",
    "torch_als_ndcg = [ndcg_at_k(predictions, test_active, k=i).mean() for i in (10, 20, 50, 100)]"
   ]
  },
  {
   "cell_type": "code",
   "execution_count": 15,
   "id": "c8957d9d-c74b-4d09-9e5e-bb282d418257",
   "metadata": {},
   "outputs": [
    {
     "name": "stderr",
     "output_type": "stream",
     "text": [
      "100%|██████████| 30/30 [00:00<00:00, 54.45it/s]\n",
      "100%|██████████| 30/30 [00:00<00:00, 54.52it/s]"
     ]
    },
    {
     "name": "stdout",
     "output_type": "stream",
     "text": [
      "\n",
      "P-value: 5.278349129332578e-82\n",
      "\n"
     ]
    },
    {
     "name": "stderr",
     "output_type": "stream",
     "text": [
      "\n"
     ]
    }
   ],
   "source": [
    "# тестируем\n",
    "random_predictor = RandomRecommender()\n",
    "random_predictor.predict(test_active, excluding_predictions=train_val_for_test, random_state=123)\n",
    "model_prediction = torch_als.predict(train_for_test, test_active, excluding_predictions=train_val, batch_size=100, drop_cold_users=True, number_of_predictions=20)\n",
    "\n",
    "random_ndcg = ndcg_at_k(random_predictions, test_active, k=20)\n",
    "model_ndcg = ndcg_at_k(model_prediction, test_active, k=20)\n",
    "\n",
    "print(\n",
    "f\"\"\"\n",
    "P-value: {scipy.stats.ttest_ind(random_ndcg, model_ndcg)[1]}\n",
    "\"\"\"\n",
    ")"
   ]
  },
  {
   "cell_type": "markdown",
   "id": "ffd8a63e-40f9-4502-9d38-fcf31ebd8534",
   "metadata": {},
   "source": [
    "Средние значения метрик, полученные с помощью рандомных предсказаний и с помощью предсказаний модели, статистически значимо различаются."
   ]
  },
  {
   "cell_type": "markdown",
   "id": "6df15389-053b-43fb-b1e6-434d88f72a97",
   "metadata": {},
   "source": [
    "### AutoEncoder\n",
    "Это один из видов нейросетевых рекомендаций. Также постарался реализовать эту модель на pytorch. Здесь также можно затюнить гиперпараметры, однако, это куда затруднительнее с точки зрения вычислений. "
   ]
  },
  {
   "cell_type": "code",
   "execution_count": 16,
   "id": "8a27fe22-2e1d-41bd-92fb-3e3352c65ff1",
   "metadata": {
    "scrolled": true,
    "tags": []
   },
   "outputs": [
    {
     "name": "stderr",
     "output_type": "stream",
     "text": [
      "Epoch 1:   0%|          | 0/197 [00:00<?, ?it/s]/usr/local/lib/python3.9/site-packages/torch/nn/functional.py:1805: UserWarning: nn.functional.sigmoid is deprecated. Use torch.sigmoid instead.\n",
      "  warnings.warn(\"nn.functional.sigmoid is deprecated. Use torch.sigmoid instead.\")\n",
      "Epoch 1: 100%|██████████| 197/197 [00:14<00:00, 13.48it/s, Train Loss: 5135.83301]  \n",
      "100%|██████████| 40/40 [00:00<00:00, 53.48it/s]\n",
      "Epoch 2:   1%|          | 2/197 [00:00<00:15, 12.75it/s, Train Loss: 6947.78271]"
     ]
    },
    {
     "name": "stdout",
     "output_type": "stream",
     "text": [
      "Validation NDCG: 0.09874638615209687\n"
     ]
    },
    {
     "name": "stderr",
     "output_type": "stream",
     "text": [
      "Epoch 2: 100%|██████████| 197/197 [00:14<00:00, 13.60it/s, Train Loss: 624184.875]  \n",
      "100%|██████████| 40/40 [00:00<00:00, 53.46it/s]\n",
      "Epoch 3:   1%|          | 2/197 [00:00<00:15, 12.31it/s, Train Loss: 565326.6875]"
     ]
    },
    {
     "name": "stdout",
     "output_type": "stream",
     "text": [
      "Validation NDCG: 0.07078591786859549\n"
     ]
    },
    {
     "name": "stderr",
     "output_type": "stream",
     "text": [
      "Epoch 3: 100%|██████████| 197/197 [00:14<00:00, 13.67it/s, Train Loss: 140511.96875]\n",
      "100%|██████████| 40/40 [00:00<00:00, 53.28it/s]\n",
      "Epoch 4:   1%|          | 2/197 [00:00<00:16, 11.77it/s, Train Loss: 133047.875]"
     ]
    },
    {
     "name": "stdout",
     "output_type": "stream",
     "text": [
      "Validation NDCG: 0.10819827833440061\n"
     ]
    },
    {
     "name": "stderr",
     "output_type": "stream",
     "text": [
      "Epoch 4: 100%|██████████| 197/197 [00:14<00:00, 13.60it/s, Train Loss: 113157.35938]\n",
      "100%|██████████| 40/40 [00:00<00:00, 53.39it/s]\n",
      "Epoch 5:   1%|          | 2/197 [00:00<00:16, 11.97it/s, Train Loss: 101389.25781]"
     ]
    },
    {
     "name": "stdout",
     "output_type": "stream",
     "text": [
      "Validation NDCG: 0.1105789439340459\n"
     ]
    },
    {
     "name": "stderr",
     "output_type": "stream",
     "text": [
      "Epoch 5: 100%|██████████| 197/197 [00:14<00:00, 13.51it/s, Train Loss: 80971.8125]  \n",
      "100%|██████████| 40/40 [00:00<00:00, 53.48it/s]\n",
      "Epoch 6:   1%|          | 2/197 [00:00<00:16, 11.61it/s, Train Loss: 75954.54688]"
     ]
    },
    {
     "name": "stdout",
     "output_type": "stream",
     "text": [
      "Validation NDCG: 0.11225503075307268\n"
     ]
    },
    {
     "name": "stderr",
     "output_type": "stream",
     "text": [
      "Epoch 6: 100%|██████████| 197/197 [00:14<00:00, 13.54it/s, Train Loss: 57004.11719]\n",
      "100%|██████████| 40/40 [00:00<00:00, 53.37it/s]\n",
      "Epoch 7:   1%|          | 2/197 [00:00<00:15, 12.53it/s, Train Loss: 51860.73438]"
     ]
    },
    {
     "name": "stdout",
     "output_type": "stream",
     "text": [
      "Validation NDCG: 0.11383947241372286\n"
     ]
    },
    {
     "name": "stderr",
     "output_type": "stream",
     "text": [
      "Epoch 7: 100%|██████████| 197/197 [00:14<00:00, 13.58it/s, Train Loss: 43741.11719]\n",
      "100%|██████████| 40/40 [00:00<00:00, 53.49it/s]\n",
      "Epoch 8:   1%|          | 2/197 [00:00<00:16, 11.95it/s, Train Loss: 44401.25]"
     ]
    },
    {
     "name": "stdout",
     "output_type": "stream",
     "text": [
      "Validation NDCG: 0.11588393716898428\n"
     ]
    },
    {
     "name": "stderr",
     "output_type": "stream",
     "text": [
      "Epoch 8: 100%|██████████| 197/197 [00:14<00:00, 13.56it/s, Train Loss: 25509.60547]\n",
      "100%|██████████| 40/40 [00:00<00:00, 52.90it/s]\n",
      "Epoch 9:   1%|          | 2/197 [00:00<00:16, 11.64it/s, Train Loss: 26413.36719]"
     ]
    },
    {
     "name": "stdout",
     "output_type": "stream",
     "text": [
      "Validation NDCG: 0.11790562135312518\n"
     ]
    },
    {
     "name": "stderr",
     "output_type": "stream",
     "text": [
      "Epoch 9: 100%|██████████| 197/197 [00:14<00:00, 13.49it/s, Train Loss: 16970.66016]\n",
      "100%|██████████| 40/40 [00:00<00:00, 53.46it/s]\n",
      "Epoch 10:   1%|          | 2/197 [00:00<00:16, 12.08it/s, Train Loss: 16380.78125]"
     ]
    },
    {
     "name": "stdout",
     "output_type": "stream",
     "text": [
      "Validation NDCG: 0.11888835219603894\n"
     ]
    },
    {
     "name": "stderr",
     "output_type": "stream",
     "text": [
      "Epoch 10: 100%|██████████| 197/197 [00:14<00:00, 13.58it/s, Train Loss: 8715.34766] \n",
      "100%|██████████| 40/40 [00:00<00:00, 53.15it/s]"
     ]
    },
    {
     "name": "stdout",
     "output_type": "stream",
     "text": [
      "Validation NDCG: 0.1186450848815234\n"
     ]
    },
    {
     "name": "stderr",
     "output_type": "stream",
     "text": [
      "\n"
     ]
    }
   ],
   "source": [
    "from src.torch_models import AutoEncoderRecommender\n",
    "\n",
    "val_user_ids = np.arange(validation.shape[0])[(train.getnnz(1) > 10) & (validation.getnnz(1) > 5)]\n",
    "\n",
    "autoencoder = AutoEncoderRecommender(n_items=train.shape[1],\n",
    "                                    layers_dims=[1024, 512, 256],\n",
    "                                    activation='swish',\n",
    "                                    n_epoch=10,\n",
    "                                    device=device,\n",
    "                                    lr=0.003,\n",
    "                                    optimizer='adam',\n",
    "                                    batch_size=512,\n",
    "                                    dropout=0.8,\n",
    "                                    augmentation_step=1)\n",
    "\n",
    "autoencoder.to(device)\n",
    "autoencoder.train()\n",
    "autoencoder.fit(train, val_active, val_user_ids=val_user_ids)"
   ]
  },
  {
   "cell_type": "code",
   "execution_count": 17,
   "id": "a7cca505-9f28-4680-b872-745eec19d7b7",
   "metadata": {},
   "outputs": [],
   "source": [
    "torch.cuda.empty_cache()"
   ]
  },
  {
   "cell_type": "code",
   "execution_count": 18,
   "id": "79d977f2-b1cb-4193-89b4-15c9df1133c6",
   "metadata": {},
   "outputs": [
    {
     "name": "stderr",
     "output_type": "stream",
     "text": [
      "100%|██████████| 30/30 [00:00<00:00, 54.76it/s]\n",
      "100%|██████████| 30/30 [00:00<00:00, 54.27it/s]\n",
      "100%|██████████| 30/30 [00:00<00:00, 53.46it/s]\n",
      "100%|██████████| 30/30 [00:00<00:00, 53.09it/s]\n"
     ]
    }
   ],
   "source": [
    "autoencoder.eval()\n",
    "# autoencoder.load_state_dict(autoencoder.best_params)\n",
    "user_ids = np.arange(test.shape[0])[(train.getnnz(1) > 10) & (test.getnnz(1) > 5)]\n",
    "predictions = autoencoder.predict(train_val, test_active, excluding_predictions=train_val, batch_size=100, drop_cold_users=True,\n",
    "                             user_ids=user_ids)\n",
    "\n",
    "autoencoder_ndcg = [ndcg_at_k(predictions, test_active, k=i).mean() for i in (10, 20, 50, 100)]"
   ]
  },
  {
   "cell_type": "code",
   "execution_count": 19,
   "id": "3481d94d-3bd3-4d0f-b07c-34357bfb8e9d",
   "metadata": {},
   "outputs": [
    {
     "name": "stderr",
     "output_type": "stream",
     "text": [
      "100%|██████████| 30/30 [00:00<00:00, 54.49it/s]\n",
      "100%|██████████| 30/30 [00:00<00:00, 54.08it/s]"
     ]
    },
    {
     "name": "stdout",
     "output_type": "stream",
     "text": [
      "\n",
      "P-value: 0.0\n",
      "\n"
     ]
    },
    {
     "name": "stderr",
     "output_type": "stream",
     "text": [
      "\n"
     ]
    }
   ],
   "source": [
    "# тестируем\n",
    "random_predictor = RandomRecommender()\n",
    "random_predictor.predict(test_active, excluding_predictions=train_val_for_test, random_state=123)\n",
    "model_prediction = autoencoder.predict(train_val, test_active, excluding_predictions=train_val, batch_size=100, drop_cold_users=True,\n",
    "                             user_ids=user_ids, number_of_predictions=20)\n",
    "\n",
    "random_ndcg = ndcg_at_k(random_predictions, test_active, k=20)\n",
    "model_ndcg = ndcg_at_k(model_prediction, test_active, k=20)\n",
    "\n",
    "print(\n",
    "f\"\"\"\n",
    "P-value: {scipy.stats.ttest_ind(random_ndcg, model_ndcg)[1]}\n",
    "\"\"\"\n",
    ")"
   ]
  },
  {
   "cell_type": "markdown",
   "id": "34fc3d96-110a-4e4c-814b-2c73bf7d161e",
   "metadata": {},
   "source": [
    "Средние значения метрик, полученные с помощью рандомных предсказаний и с помощью предсказаний модели, статистически значимо различаются."
   ]
  },
  {
   "cell_type": "markdown",
   "id": "b657811a-9ec4-4c1f-8929-416e11957a60",
   "metadata": {},
   "source": [
    "### Сравнение моделей"
   ]
  },
  {
   "cell_type": "code",
   "execution_count": 20,
   "id": "ccff31fb-15ce-443c-a52d-a47d18b09df6",
   "metadata": {},
   "outputs": [
    {
     "data": {
      "image/png": "[encoded data removed]",
      "text/plain": [
       "<Figure size 648x504 with 1 Axes>"
      ]
     },
     "metadata": {
      "needs_background": "light"
     },
     "output_type": "display_data"
    }
   ],
   "source": [
    "fig, ax = plt.subplots(figsize=(9,7))\n",
    "x = np.arange(0, 4)\n",
    "ax.plot(x, most_pop_ndcg, marker='^', markersize=20, label='Most Popular')\n",
    "ax.plot(x, svd_ndcg, marker='^', markersize=20, label='SVD')\n",
    "ax.plot(x, als_ndcg, marker='^', markersize=20, label='ALS')\n",
    "ax.plot(x, torch_als_ndcg, marker='^', markersize=20, label='Torch_ALS')#\n",
    "ax.plot(x, autoencoder_ndcg, marker='^', markersize=20, label='AutoEncoder')\n",
    "ax.legend()\n",
    "ax.set_xticks(x)\n",
    "labels = [f\"k={i}\" for i in (10, 20, 50, 100)]\n",
    "ax.set_xticklabels(labels)\n",
    "ax.set_xlabel(\"K\")\n",
    "ax.set_ylabel(\"nDCG@k value\")\n",
    "ax.grid()\n",
    "plt.show()"
   ]
  },
  {
   "cell_type": "markdown",
   "id": "5445372e-77ea-4d80-8c6b-d1b3377be5a2",
   "metadata": {},
   "source": [
    "Лучше всего себя показали SVD и ALS модели. AutoEncoder не обошел даже MostPopular модель. Однако, так как AutoEncoder имеет в себе много гиперпараметров, которые стоит настроить, а также, требует больше эпох для лучшего схождения, данный алгоритм может быть улучшен."
   ]
  },
  {
   "cell_type": "markdown",
   "id": "3c60cc21-03c4-4000-8895-81d802539e51",
   "metadata": {},
   "source": [
    "### Предобработка данных признаков фильмов\n",
    "Преобразуем данные в матрицу признаков для фильмов."
   ]
  },
  {
   "cell_type": "code",
   "execution_count": 21,
   "id": "e59a3aa2-41ae-45b4-a6f6-eb2b8a69a1a1",
   "metadata": {},
   "outputs": [],
   "source": [
    "# Подгрущим данные с признаками о фильмах\n",
    "items_features = pd.read_csv('./data/genome_scores.csv')\n",
    "\n",
    "# оставим только фильмы, которые присутсвуют у нас в датасете\n",
    "items_features = items_features[items_features['movieId'].isin(movie_decoder.values())]\n",
    "\n",
    "# Сделаем новые MovieID для создания Sparse Матрицы\n",
    "items_features['movieId'] = items_features['movieId'].apply(lambda x: movie_encoder[x])\n",
    "\n",
    "# id тегов тоже переделаем в нужный формат\n",
    "items_features['tagId'] -= 1\n",
    "\n",
    "# Преобразуем в csr матрицу\n",
    "items_features = sp.csr_matrix((items_features['relevance'], (items_features['movieId'], items_features['tagId'])))"
   ]
  },
  {
   "cell_type": "markdown",
   "id": "6e57f009-34eb-45f0-b82d-6f39442b71f0",
   "metadata": {},
   "source": [
    "### LightFM"
   ]
  },
  {
   "cell_type": "code",
   "execution_count": 28,
   "id": "6988d4c0-1b9e-4cbf-856b-aaad79a17837",
   "metadata": {},
   "outputs": [
    {
     "data": {
      "text/plain": [
       "<lightfm.lightfm.LightFM at 0x7fcb2a4f8a30>"
      ]
     },
     "execution_count": 28,
     "metadata": {},
     "output_type": "execute_result"
    }
   ],
   "source": [
    "from lightfm import LightFM\n",
    "\n",
    "lf = LightFM(no_components=30)\n",
    "lf.fit(train_val, item_features=items_features, epochs=10, num_threads=6)"
   ]
  },
  {
   "cell_type": "code",
   "execution_count": 30,
   "id": "cfc11100-b090-4b0f-85e2-aca577c8cb82",
   "metadata": {},
   "outputs": [],
   "source": [
    "import pickle\n",
    "\n",
    "with open('lf.pkl', 'wb') as write_file:\n",
    "    pickle.dump(lf, write_file, pickle.HIGHEST_PROTOCOL)"
   ]
  },
  {
   "cell_type": "code",
   "execution_count": 65,
   "id": "74a6da42-fdd6-467b-9e51-09d24f0f448f",
   "metadata": {},
   "outputs": [
    {
     "name": "stderr",
     "output_type": "stream",
     "text": [
      "100%|██████████| 295/295 [03:52<00:00,  1.27it/s]\n"
     ]
    }
   ],
   "source": [
    "# Set the ids of users to predict\n",
    "user_ids = np.arange(test.shape[0])[(train.getnnz(1) > 10) & (test.getnnz(1) > 5)]\n",
    "items_ids = np.arange(0, test.shape[1])\n",
    "\n",
    "# set empty prediction list\n",
    "predictions_all = []\n",
    "\n",
    "# Iterating over batches to make predictions\n",
    "for start_ind in tqdm(range(0, len(user_ids), 10)):\n",
    "    batch = user_ids[start_ind: start_ind + 10]\n",
    "    \n",
    "    scores = lf.predict(user_ids=np.repeat(batch, train_val.shape[1]), item_ids=np.tile(items_ids, len(batch)), item_features=items_features)\n",
    "    \n",
    "    # excluding train predictions\n",
    "    scores[train_val[batch, :].nonzero()] = -np.inf\n",
    "    \n",
    "    # predictions \n",
    "    predictions = np.argsort(scores, axis=1)[:, ::-1][:, :100]\n",
    "    \n",
    "    # Appending results\n",
    "    predictions_all.extend(predictions)\n",
    "    \n",
    "predictions_all = np.array(predictions_all)"
   ]
  },
  {
   "cell_type": "code",
   "execution_count": 66,
   "id": "91ed8ab1-2306-41a4-bcad-d32154750d5e",
   "metadata": {},
   "outputs": [
    {
     "name": "stderr",
     "output_type": "stream",
     "text": [
      "100%|██████████| 30/30 [00:00<00:00, 51.85it/s]\n",
      "100%|██████████| 30/30 [00:00<00:00, 53.90it/s]\n",
      "100%|██████████| 30/30 [00:00<00:00, 52.53it/s]\n",
      "100%|██████████| 30/30 [00:00<00:00, 51.44it/s]\n"
     ]
    }
   ],
   "source": [
    "lf_ndcg = [ndcg_at_k(predictions_all, test_active, k=i).mean() for i in (10, 20, 50, 100)]"
   ]
  },
  {
   "cell_type": "code",
   "execution_count": 68,
   "id": "9de12dab-53ea-4c9f-b4fc-52a0a1be3d69",
   "metadata": {},
   "outputs": [
    {
     "name": "stderr",
     "output_type": "stream",
     "text": [
      "100%|██████████| 30/30 [00:00<00:00, 53.99it/s]\n",
      "100%|██████████| 30/30 [00:00<00:00, 54.01it/s]"
     ]
    },
    {
     "name": "stdout",
     "output_type": "stream",
     "text": [
      "\n",
      "P-value: 0.0\n",
      "\n"
     ]
    },
    {
     "name": "stderr",
     "output_type": "stream",
     "text": [
      "\n"
     ]
    }
   ],
   "source": [
    "# тестируем\n",
    "random_predictor = RandomRecommender()\n",
    "random_predictor.predict(test_active, excluding_predictions=train_val_for_test, random_state=123)\n",
    "model_prediction = predictions_all[:, :20]\n",
    "\n",
    "random_ndcg = ndcg_at_k(random_predictions, test_active, k=20)\n",
    "model_ndcg = ndcg_at_k(model_prediction, test_active, k=20)\n",
    "\n",
    "print(\n",
    "f\"\"\"\n",
    "P-value: {scipy.stats.ttest_ind(random_ndcg, model_ndcg)[1]}\n",
    "\"\"\"\n",
    ")"
   ]
  },
  {
   "cell_type": "markdown",
   "id": "28ab4463-56d9-4b86-9667-cb5de7ef0174",
   "metadata": {},
   "source": [
    "Средние значения метрик, полученные с помощью рандомных предсказаний и с помощью предсказаний модели, статистически значимо различаются."
   ]
  },
  {
   "cell_type": "markdown",
   "id": "19353850-8b08-4a94-8e04-adaf0201b6d8",
   "metadata": {},
   "source": [
    "### DSSM\n",
    "Попробовал реализовать DSSM на Pytorch. Гиперпараметры также не вычислялись из-за вычислительных ограничений."
   ]
  },
  {
   "cell_type": "code",
   "execution_count": 69,
   "id": "7daeb9b9-090a-4d60-b0b9-043635483635",
   "metadata": {
    "scrolled": true,
    "tags": []
   },
   "outputs": [
    {
     "name": "stderr",
     "output_type": "stream",
     "text": [
      "Epoch 1: 100%|██████████| 271/271 [00:37<00:00,  7.15it/s, Train Loss: 6.303806617920702e+20] \n",
      "100%|██████████| 40/40 [00:00<00:00, 52.94it/s]\n",
      "Epoch 2:   0%|          | 1/271 [00:00<00:41,  6.54it/s, Train Loss: 8.526408328584312e+20]"
     ]
    },
    {
     "name": "stdout",
     "output_type": "stream",
     "text": [
      "Validation NDCG: 0.11054194120366037\n"
     ]
    },
    {
     "name": "stderr",
     "output_type": "stream",
     "text": [
      "Epoch 2: 100%|██████████| 271/271 [00:36<00:00,  7.52it/s, Train Loss: 2.9159600763261315e+20]\n",
      "100%|██████████| 40/40 [00:00<00:00, 52.90it/s]\n",
      "Epoch 3:   0%|          | 1/271 [00:00<00:29,  9.14it/s, Train Loss: 4.0495748604366737e+20]"
     ]
    },
    {
     "name": "stdout",
     "output_type": "stream",
     "text": [
      "Validation NDCG: 0.11028292021262767\n"
     ]
    },
    {
     "name": "stderr",
     "output_type": "stream",
     "text": [
      "Epoch 3: 100%|██████████| 271/271 [00:37<00:00,  7.26it/s, Train Loss: 1.3600965872463538e+20]\n",
      "100%|██████████| 40/40 [00:00<00:00, 51.50it/s]\n",
      "Epoch 4:   0%|          | 1/271 [00:00<00:40,  6.74it/s, Train Loss: 1.805556070638871e+20]"
     ]
    },
    {
     "name": "stdout",
     "output_type": "stream",
     "text": [
      "Validation NDCG: 0.11023647724103322\n"
     ]
    },
    {
     "name": "stderr",
     "output_type": "stream",
     "text": [
      "Epoch 4: 100%|██████████| 271/271 [00:38<00:00,  7.10it/s, Train Loss: 1.0572367251019661e+20]\n",
      "100%|██████████| 40/40 [00:00<00:00, 52.70it/s]\n",
      "Epoch 5:   0%|          | 1/271 [00:00<00:41,  6.57it/s, Train Loss: 1.0864740586984833e+20]"
     ]
    },
    {
     "name": "stdout",
     "output_type": "stream",
     "text": [
      "Validation NDCG: 0.11001960782771722\n"
     ]
    },
    {
     "name": "stderr",
     "output_type": "stream",
     "text": [
      "Epoch 5: 100%|██████████| 271/271 [00:37<00:00,  7.14it/s, Train Loss: 7.557454470709038e+19] \n",
      "100%|██████████| 40/40 [00:00<00:00, 52.95it/s]\n",
      "Epoch 6:   0%|          | 1/271 [00:00<00:41,  6.53it/s, Train Loss: 5.6629167712137904e+19]"
     ]
    },
    {
     "name": "stdout",
     "output_type": "stream",
     "text": [
      "Validation NDCG: 0.10982049498764887\n"
     ]
    },
    {
     "name": "stderr",
     "output_type": "stream",
     "text": [
      "Epoch 6: 100%|██████████| 271/271 [00:37<00:00,  7.18it/s, Train Loss: 6.1362173843574096e+19]\n",
      "100%|██████████| 40/40 [00:00<00:00, 52.81it/s]\n",
      "Epoch 7:   0%|          | 1/271 [00:00<00:41,  6.56it/s, Train Loss: 4.7743125842684805e+19]"
     ]
    },
    {
     "name": "stdout",
     "output_type": "stream",
     "text": [
      "Validation NDCG: 0.1096352125696313\n"
     ]
    },
    {
     "name": "stderr",
     "output_type": "stream",
     "text": [
      "Epoch 7: 100%|██████████| 271/271 [00:38<00:00,  7.13it/s, Train Loss: 3.703433998498372e+19] \n",
      "100%|██████████| 40/40 [00:00<00:00, 53.04it/s]\n",
      "Epoch 8:   0%|          | 1/271 [00:00<00:40,  6.65it/s, Train Loss: 3.3756990491699708e+19]"
     ]
    },
    {
     "name": "stdout",
     "output_type": "stream",
     "text": [
      "Validation NDCG: 0.10940291965249553\n"
     ]
    },
    {
     "name": "stderr",
     "output_type": "stream",
     "text": [
      "Epoch 8: 100%|██████████| 271/271 [00:38<00:00,  7.12it/s, Train Loss: 3.206853645562177e+19] \n",
      "100%|██████████| 40/40 [00:00<00:00, 52.96it/s]\n",
      "Epoch 9:   0%|          | 1/271 [00:00<00:40,  6.68it/s, Train Loss: 2.20439810819322e+19]"
     ]
    },
    {
     "name": "stdout",
     "output_type": "stream",
     "text": [
      "Validation NDCG: 0.10919461152887008\n"
     ]
    },
    {
     "name": "stderr",
     "output_type": "stream",
     "text": [
      "Epoch 9: 100%|██████████| 271/271 [00:37<00:00,  7.14it/s, Train Loss: 2.2793821623796367e+19]\n",
      "100%|██████████| 40/40 [00:00<00:00, 53.10it/s]\n",
      "Epoch 10:   0%|          | 1/271 [00:00<00:41,  6.53it/s, Train Loss: 2.267703589674051e+19]"
     ]
    },
    {
     "name": "stdout",
     "output_type": "stream",
     "text": [
      "Validation NDCG: 0.10906961766458684\n"
     ]
    },
    {
     "name": "stderr",
     "output_type": "stream",
     "text": [
      "Epoch 10: 100%|██████████| 271/271 [00:37<00:00,  7.17it/s, Train Loss: 1.7195504239346975e+19]\n",
      "100%|██████████| 40/40 [00:00<00:00, 53.02it/s]"
     ]
    },
    {
     "name": "stdout",
     "output_type": "stream",
     "text": [
      "Validation NDCG: 0.10896395391036418\n"
     ]
    },
    {
     "name": "stderr",
     "output_type": "stream",
     "text": [
      "\n"
     ]
    }
   ],
   "source": [
    "from src.torch_models import DSSM\n",
    "\n",
    "dssm = DSSM(user_dim=128, item_dim=items_features.shape[1], layers_dims=[1024, 512, 256],\n",
    "            device=device, n_users=train.shape[0],\n",
    "           batch_size=512)\n",
    "dssm.to(device)\n",
    "\n",
    "val_user_ids = np.arange(validation.shape[0])[(train.getnnz(1) > 10) & (validation.getnnz(1) > 5)]\n",
    "train_user_ids = np.arange(validation.shape[0])\n",
    "\n",
    "dssm.fit(train, val_active, item_features=items_features, user_ind_train=train_user_ids, user_ind_val=val_user_ids)"
   ]
  },
  {
   "cell_type": "code",
   "execution_count": 70,
   "id": "64b50a06-646e-496e-aace-968a9a1765f5",
   "metadata": {},
   "outputs": [],
   "source": [
    "user_ids = np.arange(test.shape[0])[(train.getnnz(1) > 10) & (test.getnnz(1) > 5)]\n",
    "predictions = dssm.predict(item_features=items_features, number_of_predictions=100, user_ids=user_ids, excluding_predictions=train_val)"
   ]
  },
  {
   "cell_type": "code",
   "execution_count": 71,
   "id": "e12733ad-472c-4803-8cd7-900175c8ad04",
   "metadata": {},
   "outputs": [
    {
     "name": "stderr",
     "output_type": "stream",
     "text": [
      "100%|██████████| 30/30 [00:00<00:00, 52.86it/s]\n",
      "100%|██████████| 30/30 [00:00<00:00, 53.78it/s]\n",
      "100%|██████████| 30/30 [00:00<00:00, 53.08it/s]\n",
      "100%|██████████| 30/30 [00:00<00:00, 52.58it/s]\n"
     ]
    }
   ],
   "source": [
    "ndcg_dssm = [ndcg_at_k(predictions, test_active, k=i).mean() for i in (10, 20, 50, 100)]"
   ]
  },
  {
   "cell_type": "code",
   "execution_count": 72,
   "id": "5ab66e8c-51a7-4d82-a4ce-490cdd51217a",
   "metadata": {},
   "outputs": [
    {
     "data": {
      "image/png": "[encoded data removed]",
      "text/plain": [
       "<Figure size 648x504 with 1 Axes>"
      ]
     },
     "metadata": {
      "needs_background": "light"
     },
     "output_type": "display_data"
    }
   ],
   "source": [
    "fig, ax = plt.subplots(figsize=(9,7))\n",
    "x = np.arange(0, 4)\n",
    "ax.plot(x, most_pop_ndcg, marker='^', markersize=20, label='Most Popular')\n",
    "ax.plot(x, svd_ndcg, marker='^', markersize=20, label='SVD')\n",
    "ax.plot(x, als_ndcg, marker='^', markersize=20, label='ALS')\n",
    "ax.plot(x, torch_als_ndcg, marker='^', markersize=20, label='Torch_ALS')\n",
    "ax.plot(x, autoencoder_ndcg, marker='^', markersize=20, label='AutoEncoder')\n",
    "ax.plot(x, lf_ndcg, marker='^', markersize=20, label='LightFM')\n",
    "ax.plot(x, ndcg_dssm, marker='^', markersize=20, label='DSSM')\n",
    "ax.legend()\n",
    "ax.set_xticks(x)\n",
    "labels = [f\"k={i}\" for i in (10, 20, 50, 100)]\n",
    "ax.set_xticklabels(labels)\n",
    "ax.set_xlabel(\"K\")\n",
    "ax.set_ylabel(\"nDCG@k value\")\n",
    "ax.grid()\n",
    "plt.show()"
   ]
  },
  {
   "cell_type": "markdown",
   "id": "8622f034-74ea-459f-afbe-4eaf96d2bbd0",
   "metadata": {},
   "source": [
    "DSSM также может быть улучшена путем более тщательной настройки гиперпараметров и обучения на большем количестве эпох."
   ]
  },
  {
   "cell_type": "code",
   "execution_count": 74,
   "id": "db26685c-08df-4cdb-b22b-2246b3c28307",
   "metadata": {},
   "outputs": [
    {
     "name": "stderr",
     "output_type": "stream",
     "text": [
      "100%|██████████| 30/30 [00:00<00:00, 54.26it/s]\n",
      "100%|██████████| 30/30 [00:00<00:00, 53.96it/s]"
     ]
    },
    {
     "name": "stdout",
     "output_type": "stream",
     "text": [
      "\n",
      "P-value: 0.0\n",
      "\n"
     ]
    },
    {
     "name": "stderr",
     "output_type": "stream",
     "text": [
      "\n"
     ]
    }
   ],
   "source": [
    "# тестируем\n",
    "random_predictor = RandomRecommender()\n",
    "random_predictor.predict(test_active, excluding_predictions=train_val_for_test, random_state=123)\n",
    "model_prediction = dssm.predict(item_features=items_features, number_of_predictions=20, user_ids=user_ids, excluding_predictions=train_val,)\n",
    "\n",
    "random_ndcg = ndcg_at_k(random_predictions, test_active, k=20)\n",
    "model_ndcg = ndcg_at_k(model_prediction, test_active, k=20)\n",
    "\n",
    "print(\n",
    "f\"\"\"\n",
    "P-value: {scipy.stats.ttest_ind(random_ndcg, model_ndcg)[1]}\n",
    "\"\"\"\n",
    ")"
   ]
  },
  {
   "cell_type": "markdown",
   "id": "86eca74e-d13f-4113-b289-37b4dd93ef46",
   "metadata": {},
   "source": [
    "Средние значения метрик, полученные с помощью рандомных предсказаний и с помощью предсказаний модели, статистически значимо различаются."
   ]
  },
  {
   "cell_type": "markdown",
   "id": "27879ffc-0b28-4a31-bce9-b3de9bae15c8",
   "metadata": {},
   "source": [
    "---"
   ]
  },
  {
   "cell_type": "markdown",
   "id": "b6eb550e-a056-4d14-bac5-7dbc2caed8eb",
   "metadata": {},
   "source": [
    "### Что можно еще было бы реализовать:\n",
    "* По моделям, использующим только коллаборативный подход: Использовать модели, основанные на других разложениях (SVD++, Factorization Machines, DeepMF, ...)\n",
    "* По моделям, испольпользующим колабборативный и контентный подходы: Развивать идею DSSM, использовать другие модели, основанные на параллельных сетях (Например, CoNet)\n",
    "* По данным: Преобразовать оценки в бинарные признаки, или какие-то другие, где также можно высчитать позитивный негативный фидбэк. Также использовать другие лоссы и метрики.\n",
    "* По статистической проверке: Можно посчитать доверительные интервалы для метрик nDCG с помощью bootsrap-выборок без возвращения, чтобы посмотреть, как они изменяются при увеличении K (как изменяется размер интервала, повторяет ли он динамику основной величины)\n",
    "* Также стоит в иных кейсах тюнить гиперпараметры всех моделей. Отдельно обрабатывать холодных пользователей и холодные айтемы."
   ]
  }
 ],
 "metadata": {
  "kernelspec": {
   "display_name": "Python 3",
   "language": "python",
   "name": "python3"
  },
  "language_info": {
   "codemirror_mode": {
    "name": "ipython",
    "version": 3
   },
   "file_extension": ".py",
   "mimetype": "text/x-python",
   "name": "python",
   "nbconvert_exporter": "python",
   "pygments_lexer": "ipython3",
   "version": "3.9.5"
  }
 },
 "nbformat": 4,
 "nbformat_minor": 5
}
